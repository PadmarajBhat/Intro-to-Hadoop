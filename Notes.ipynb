{
 "cells": [
  {
   "cell_type": "markdown",
   "metadata": {},
   "source": [
    "##### What is Big Data?\n",
    "* Can be defined as the volume of data which cannot be processed on a single machine\n",
    "* Or Cluster of nodes processing each of 1TB of data."
   ]
  },
  {
   "cell_type": "markdown",
   "metadata": {},
   "source": [
    "##### 3V - Volume Variety and Velocity of Big Data\n",
    "\n",
    "* Volume - indicates the size of the data. If storage is the concern then we have to pick carefully what we store.\n",
    "* Variety - indicates that the sources are different and thier formats too. Data can be semi structured or unstructured.\n",
    "* Velocity - indicates the speed at which data arrive/availed. If we dont save the data we end up discarding them."
   ]
  },
  {
   "cell_type": "markdown",
   "metadata": {},
   "source": [
    "##### What is Hadoop?\n",
    "* Hadoop is a software framework which stores the data distributedly in the nodes of a cluster and process the data through MapReduce.\n",
    "* Since data is split and is stored in different nodes, it can support large volume of data. And more nodes can be added to cluster if more data is needed.\n",
    "* MapReduce works to get the data in the node/ distributed file system."
   ]
  },
  {
   "cell_type": "markdown",
   "metadata": {},
   "source": [
    "##### What are the components of Hadoop?\n",
    "* HDFS - Hadoop Distributed File System\n",
    "* Map Reduce\n",
    "* PIG - High level scripting language to access HDFS through MapReduce. It is SQL like scripting used on Hadoop\n",
    "* Hive - Take Standard SQL statements and converts them to MapReduce instruction to access the HDFS.\n",
    "* Impala - Takes Standard SQL statements and works directly on the HDFC withough MapReduce in between and hence much faster.\n",
    "* Sqoop - Converts relational data base and puts it into distributed database.\n",
    "* Flume - Injests the data into HDFS as and when the external system generates it online.\n",
    "* HBase - Realtime Database on the top of HDFS\n",
    "* Mahout - Open source project to create scalable machine learning algorithm and also implements popular regression, classification and clustering algorithm for Hadoop.\n",
    "* Hue - Graphical front end to the cluster. Hadoop User Experience developed by cloudera. Can be used for monitoring and as a query editor.\n",
    "* Oozie - Workflow scheduler for hadoop jobs.\n",
    "\n",
    "#### CDH - Cloudera Distribution for Hadoop\n",
    "* Provides easy installation of all the projects in Hadoop eco system. This helps to manage the interoperability of the interlinked components."
   ]
  }
 ],
 "metadata": {
  "kernelspec": {
   "display_name": "Python 3",
   "language": "python",
   "name": "python3"
  },
  "language_info": {
   "codemirror_mode": {
    "name": "ipython",
    "version": 3
   },
   "file_extension": ".py",
   "mimetype": "text/x-python",
   "name": "python",
   "nbconvert_exporter": "python",
   "pygments_lexer": "ipython3",
   "version": "3.7.1"
  }
 },
 "nbformat": 4,
 "nbformat_minor": 2
}
