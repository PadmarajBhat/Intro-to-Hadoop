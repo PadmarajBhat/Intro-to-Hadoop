{
 "cells": [
  {
   "cell_type": "markdown",
   "metadata": {},
   "source": [
    "### This notebook focusses on :\n",
    "* fetching a textfile (csv format) from HDFS\n",
    "* perform minor data wrangling activity\n",
    "* save it back to HDFS as Parquet and AVRO format"
   ]
  },
  {
   "cell_type": "markdown",
   "metadata": {},
   "source": [
    "##### Install Apache Avro\n",
    "* as mentioned in : http://avro.apache.org/docs/current/gettingstartedpython.html"
   ]
  },
  {
   "cell_type": "code",
   "execution_count": 1,
   "metadata": {},
   "outputs": [],
   "source": [
    "import avro.schema\n",
    "from avro.datafile import DataFileReader, DataFileWriter\n",
    "from avro.io import DatumReader, DatumWriter"
   ]
  },
  {
   "cell_type": "code",
   "execution_count": 2,
   "metadata": {},
   "outputs": [],
   "source": [
    "#panda devo bhava\n",
    "import pandas as pd"
   ]
  },
  {
   "cell_type": "markdown",
   "metadata": {},
   "source": [
    "##### Simplest way of reading a text file from HDFS and displaying its content\n",
    "* Note that HDFS AWS location can be found at\n",
    "    * AWS Cluster summary page --> click/open resource manager --> click on Tools --> configuration --> it opens up an xml file --> search for \"hdfs://\""
   ]
  },
  {
   "cell_type": "code",
   "execution_count": 3,
   "metadata": {},
   "outputs": [
    {
     "data": {
      "text/plain": [
       "[\" MP Constituency ,Assembly,Ward No,Ward Name ,Winning candidate,Winner's party,Past corporator Party\",\n",
       " 'Bangalore South,B.T.M. Layout,146,Lakkasandra,Mahesh Babu,BJP,BJP',\n",
       " 'Bangalore South,B.T.M. Layout,147,Adugodi,Manjula,INC,INC',\n",
       " 'Bangalore South,B.T.M. Layout,148,Ejipura,T Ramachandra,INC,INC',\n",
       " 'Bangalore South,B.T.M. Layout,151,Koramangala,M Chandrappa,INC,INC',\n",
       " 'Bangalore South,B.T.M. Layout,152,Suddugunte Palya,G Manjunath,INC,INC',\n",
       " 'Bangalore South,B.T.M. Layout,172,Madiwala,B N Manjunath Reddy,INC,INC',\n",
       " 'Bangalore South,B.T.M. Layout,173,Jakkasandra,Saraswathamma,BJP,BJP',\n",
       " 'Bangalore South,B.T.M. Layout,176,B.T.M.Layout,K Devadas,JDS,INC',\n",
       " \"Bangalore South,Bangalore South,184,Uttarahalli,Hanumantaiah',BJP,BJP\",\n",
       " 'Bangalore South,Bangalore South,185,Yelachenahalli,V Balakrishna,BJP,INC',\n",
       " 'Bangalore South,Bangalore South,192,Begur,M Anjinappa,INC,JDS',\n",
       " 'Bangalore South,Bangalore South,194,Gottigere,Lalitha T Narayan,BJP,INC',\n",
       " 'Bangalore South,Bangalore South,195,Konanakunte,Shashirekha Jayaram,BJP,BJP',\n",
       " 'Bangalore South,Bangalore South,196,Anajanapura,K Somashekhar,BJP,INC',\n",
       " 'Bangalore South,Bangalore South,197,Vasanthapura,Shobha Gowda,INC,BJP',\n",
       " 'Bangalore South,Basavanagudi,154,Basavanagudi,B S Satyanarayana,BJP,BJP',\n",
       " 'Bangalore South,Basavanagudi,155,Hanumathnagar,Kempegowda,BJP,INC',\n",
       " 'Bangalore South,Basavanagudi,156,Srinagar,J M Savitha,BJP,JDS',\n",
       " 'Bangalore South,Basavanagudi,162,Girinagar,A V Nandini Vijay Vittal,BJP,BJP',\n",
       " 'Bangalore South,Basavanagudi,163,Kathriguppe,Sangathi Venkatesh,BJP,BJP',\n",
       " 'Bangalore South,Basavanagudi,164,VidyaPeeta Ward,Shamala Saikumar,BJP,BJP',\n",
       " 'Bangalore South,Bommana Halli,174,HSRLayout,Gurumurthy Reddy,BJP,BJP',\n",
       " 'Bangalore South,Bommana Halli,175,Bommanahalli,C R Rajmohan Raju,BJP,BJP',\n",
       " 'Bangalore South,Bommana Halli,186,Jaraganahalli,B M Shobha,BJP,BJP',\n",
       " 'Bangalore South,Bommana Halli,187,Puttenahalli,R Prabhavati Ramesh,BJP,BJP',\n",
       " 'Bangalore South,Bommana Halli,188,Bilekahalli,K Narayan Raju,BJP,BJP',\n",
       " 'Bangalore South,Bommana Halli,189,Hongasandra,Bharathi Ramachandra,BJP,BJP',\n",
       " 'Bangalore South,Bommana Halli,190,Mangammana Palya,Shobha Jagadish,INC,BJP',\n",
       " 'Bangalore South,Bommana Halli,191,Singasandra,V Shantha,BJP,INC',\n",
       " 'Bangalore South,Bommana Halli,193,Arakere,Bhagyalakshmi,BJP,BJP',\n",
       " 'Bangalore North,Byatarayanapura,5,Jakkur,K Munindra Kumar,BJP,BJP',\n",
       " 'Bangalore North,Byatarayanapura,6,Thanisandra,Mamatha K M,INC,JDS',\n",
       " 'Bangalore North,Byatarayanapura,7,Byatarayanapura,P V Manjunath,INC,INC',\n",
       " 'Bangalore North,Byatarayanapura,8,Kodigehalli,Chethan K M,INC,BJP',\n",
       " 'Bangalore North,Byatarayanapura,9,Vidyaranyapura,Kusuma H,BJP,BJP',\n",
       " 'Bangalore North,Byatarayanapura,10,Doddabommasandra,Jayalakshmi Pillappa,BJP,BJP',\n",
       " 'Bangalore North,Byatarayanapura,11,Kuvempunagar,V Prathibha Rajan,INC,Independent',\n",
       " 'Bangalore Central,C.V. Ramannagar (SC),50,Benniganahalli,Meenakshi,INC,BJP',\n",
       " 'Bangalore Central,C.V. Ramannagar (SC),57,C.V Raman Nagar,Aruna Ravi,BJP,BJP',\n",
       " 'Bangalore Central,C.V. Ramannagar (SC),58,New Thippasandra,Shilpa K S ,INC,BJP',\n",
       " 'Bangalore Central,C.V. Ramannagar (SC),79,Sarvajna Nagar,Shashirekha Mukund,BJP,BJP',\n",
       " 'Bangalore Central,C.V. Ramannagar (SC),80,Hoysala Nagar,Anand Kumar,Independent,BJP',\n",
       " 'Bangalore Central,C.V. Ramannagar (SC),88,Jeevan Bheema Nagar,Veena Kumari ,BJP,BJP',\n",
       " 'Bangalore Central,C.V. Ramannagar (SC),113,Konena Agrahara,Chandrappa Reddy,Others,BJP',\n",
       " 'Bangalore Central,Chamarajpet,135,Padarayanapura,Imran Pasha,JDS,Independent',\n",
       " 'Bangalore Central,Chamarajpet,136,Jagajeevan Ramnagar,Seema Althaf Khan ,INC,INC',\n",
       " 'Bangalore Central,Chamarajpet,137,Rayapuram,Shashikala Keshav,BJP,JDS',\n",
       " 'Bangalore Central,Chamarajpet,138,Chalavadi Palya,Rekha Kadiresh,BJP,BJP',\n",
       " 'Bangalore Central,Chamarajpet,139,K.R Market,Nazima Khanam,JDS,JDS',\n",
       " 'Bangalore Central,Chamarajpet,140,Chamarajpete,B Kokila Chandrashekhar,INC,BJP',\n",
       " 'Bangalore Central,Chamarajpet,141,Azad Nagar,M Sujatha,INC,INC',\n",
       " 'Bangalore South,Chickpet,118,Sudham Nagar,R V Yuvaraj,INC,INC',\n",
       " 'Bangalore South,Chickpet,119,Dharmaraya Swamy Temple Ward,Prathibha Dhanraj,BJP,BJP',\n",
       " 'Bangalore South,Chickpet,142,Sunkenahalli,DN Ramesh,BJP,BJP',\n",
       " 'Bangalore South,Chickpet,143,Vishweshwarapuram,Vani Rao,BJP,BJP',\n",
       " 'Bangalore South,Chickpet,144,Siddapura,Muzahid Pasha,SDPI,INC',\n",
       " 'Bangalore South,Chickpet,145,Hombegowda Nagar,D Chandrappa,INC,Independent',\n",
       " 'Bangalore South,Chickpet,153,Jayanagar,Gangambike Mallikarjun,INC,INC',\n",
       " 'Bangalore North,Dasarahalli,12,Shettihalli,K Nagabhushan,INC,BJP',\n",
       " 'Bangalore North,Dasarahalli,13,Mallasandra,Lokesh,BJP,BJP',\n",
       " 'Bangalore North,Dasarahalli,14,Bagalkunte,K Narasimha ,BJP,BJP',\n",
       " 'Bangalore North,Dasarahalli,15,T. Dasarahalli,Umadevi Nagaraj,BJP,BJP',\n",
       " 'Bangalore North,Dasarahalli,39,Chokkasandra,Sarvamangala Nagaraj,BJP,JDS',\n",
       " 'Bangalore North,Dasarahalli,41,Peenay Industrial Area,Lalitha Thimananjaiah,INC,Independent',\n",
       " 'Bangalore North,Dasarahalli,70,Rajagopalanagar,Padmavathi Narasimhamurthy,JDS,BJP',\n",
       " 'Bangalore North,Dasarahalli,71,Heggenahalli,Bhagyamma K,BJP,Independent',\n",
       " 'Bangalore Central,Gandhi Nagar,77,Dattatreya Temple,R S Satynarayan,INC,INC',\n",
       " 'Bangalore Central,Gandhi Nagar,94,Gandhi Nagar,R J Lalitha,INC,INC',\n",
       " 'Bangalore Central,Gandhi Nagar,95,Subhash Nagar,L Govindaraju,INC,INC',\n",
       " 'Bangalore Central,Gandhi Nagar,96,Okalipuram,V Shivaprakash,BJP,INC',\n",
       " 'Bangalore Central,Gandhi Nagar,109,Chikpete,Leela Shivakumar,BJP,BJP',\n",
       " 'Bangalore Central,Gandhi Nagar,120,Cottonpet,D Pramod,INC,BJP',\n",
       " 'Bangalore Central,Gandhi Nagar,121,Binnypet,Mahadevamma Nagaraj,INC,INC',\n",
       " 'Bangalore South,Govindaraja Nagar,103,Kaveripura,R Ramila,JDS,JDS',\n",
       " 'Bangalore South,Govindaraja Nagar,104,Govindarajanagar,Umesh Shetty,BJP,BJP',\n",
       " 'Bangalore South,Govindaraja Nagar,105,Agrahara Dasarahalli,Shilpa G Sridhar,BJP,BJP',\n",
       " 'Bangalore South,Govindaraja Nagar,106,Dr. Rajkumar Ward,Roopa R,INC,BJP',\n",
       " 'Bangalore South,Govindaraja Nagar,125,Marenahalli,Madhukumari Vageesh,BJP,BJP',\n",
       " 'Bangalore South,Govindaraja Nagar,126,Maruthi Mandira Ward,V Shantha Kumari,BJP,BJP',\n",
       " 'Bangalore South,Govindaraja Nagar,127,Moodalapalya,Dase Gowda,BJP,BJP',\n",
       " 'Bangalore South,Govindaraja Nagar,128,Nagarbhavi,Mohan Kumar,BJP,BJP',\n",
       " 'Bangalore South,Govindaraja Nagar,131,Nayandahalli,M Savitha,INC,BJP',\n",
       " 'Bangalore North,Hebbal,18,Radha Krishna Temple Ward,Anand,JDS,BJP',\n",
       " 'Bangalore North,Hebbal,19,Sanjayanagar,Indira Subhash,BJP,BJP',\n",
       " 'Bangalore North,Hebbal,20,Ganganagar,Pramila Anand,BJP,BJP',\n",
       " 'Bangalore North,Hebbal,21,Hebbal,Anand Kumar,INC,BJP',\n",
       " 'Bangalore North,Hebbal,22,Vishwanatha Nagenahalli,Rajashekharan V,JDS,INC',\n",
       " 'Bangalore North,Hebbal,33,Manorayanapalya,Abdul Wajid,INC,INC',\n",
       " 'Bangalore North,Hebbal,34,Gangenahalli,M Nagaraju,BJP,BJP',\n",
       " 'Bangalore North,Hebbal,46,Jayachamarajendra Nagar,Ganesh Rao Mane,BJP,INC',\n",
       " 'Bangalore South,Jaya Nagar,168,Pattabhirama Nagar,H C Nagarathna Murthy,BJP,BJP',\n",
       " 'Bangalore South,Jaya Nagar,169,Byrasandra,N Nagaraju,BJP,BJP',\n",
       " 'Bangalore South,Jaya Nagar,170,Jayanagar East,R Govinda Naidu,BJP,INC',\n",
       " 'Bangalore South,Jaya Nagar,171,Gurappanapalya,Mohammad Rizwan Nawab,INC,INC',\n",
       " 'Bangalore South,Jaya Nagar,177,J.P Nagar,K N Lakshmi Nataraj,BJP,BJP',\n",
       " 'Bangalore South,Jaya Nagar,178,Sarakki,Deepika Manjunatha Reddy,BJP,BJP',\n",
       " 'Bangalore South,Jaya Nagar,179,Shakambari Nagar,M Malathi,BJP,BJP',\n",
       " 'Bangalore North,K.R. Puram,25,Horamavu,Radhamma ,INC,BJP',\n",
       " 'Bangalore North,K.R. Puram,26,Ramamurthy nagar,Padmavathi Srinivas,BJP,BJP',\n",
       " 'Bangalore North,K.R. Puram,51,Viginanapura,S Raju,BJP,BJP',\n",
       " 'Bangalore North,K.R. Puram,52,K.R.Puram,K Poornima,BJP,BJP',\n",
       " 'Bangalore North,K.R. Puram,53,Basavanapura,B N Jayaprakash,INC,INC',\n",
       " 'Bangalore North,K.R. Puram,55,Devasandra,M N Srikanth,INC,BJP',\n",
       " 'Bangalore North,K.R. Puram,56,A.Narayanapura,V Suresh,INC,BJP',\n",
       " 'Bangalore North,K.R. Puram,81,Vignana Nagar,S G Nagaraj,INC,BJP',\n",
       " 'Bangalore North,K.R. Puram,87,H.A.L Airport ward,N Manjunath,INC,BJP',\n",
       " 'Bangalore Central,Mahadevapura,54,Hoodi,Hariprasad A C,INC,INC',\n",
       " 'Bangalore Central,Mahadevapura,82,Garudachar Palya,B N Nithish Purushotham,INC,INC',\n",
       " 'Bangalore Central,Mahadevapura,83,Kadugodi,S Muniswamy,BJP,INC',\n",
       " 'Bangalore Central,Mahadevapura,84,Hagaduru,S Uday Kumar,INC,INC',\n",
       " 'Bangalore Central,Mahadevapura,85,Doddanekundi,Shwetha Vijayakumar,BJP,BJP',\n",
       " 'Bangalore Central,Mahadevapura,86,Marathhalli,Ramesh,Independent,INC',\n",
       " 'Bangalore Central,Mahadevapura,149,Varthur,Pushpa Manjunath,BJP,INC',\n",
       " 'Bangalore Central,Mahadevapura,150,Bellandur,N Asha Suresh,BJP,INC',\n",
       " 'Bangalore North,Mahalakshmi Layout,43,Nandini Layout,K V Rajendra Kumar,BJP,INC',\n",
       " 'Bangalore North,Mahalakshmi Layout,44,Marappana Palya,Mahadev M,JDS,JDS',\n",
       " 'Bangalore North,Mahalakshmi Layout,67,Nagapura,Badregowda,JDS,BJP',\n",
       " 'Bangalore North,Mahalakshmi Layout,68,Mahalakshmipuram,S Keshavamurthy,INC,INC',\n",
       " 'Bangalore North,Mahalakshmi Layout,74,Shakthi Ganapathi Nagar,Gangamma Rajanna,JDS,JDS',\n",
       " 'Bangalore North,Mahalakshmi Layout,75,Shankaramatt,M Shivaraju,INC,INC',\n",
       " 'Bangalore North,Mahalakshmi Layout,102,Vrushabhavathi Nagar,S P Hemalatha,JDS,JDS',\n",
       " 'Bangalore North,Malleshwaram,35,Aramane Nagar,Sumangala B,BJP,BJP',\n",
       " 'Bangalore North,Malleshwaram,36,Mattikere,Jayaprakash M C,BJP,BJP',\n",
       " 'Bangalore North,Malleshwaram,45,Malleshwaram,N Jayapal,BJP,INC',\n",
       " 'Bangalore North,Malleshwaram,64,Rajmahal Guttahalli,Hemalatha Sathish Seth,BJP,BJP',\n",
       " 'Bangalore North,Malleshwaram,65,Kadu Malleshwaram,Manjunath Raju,BJP,BJP',\n",
       " 'Bangalore North,Malleshwaram,66,Subramanya Nagar,H Manjunath,INC,BJP',\n",
       " 'Bangalore North,Malleshwaram,76,Gayithri Nagar,Chandrakala Harish,INC,BJP',\n",
       " 'Bangalore South,Padmanaba Nagar,161,Hosakerehalli,Rajeshwarai Cholraj,BJP,BJP',\n",
       " 'Bangalore South,Padmanaba Nagar,165,Ganesh Mandira,D H Lakshmi ,BJP,INC',\n",
       " 'Bangalore South,Padmanaba Nagar,166,Karisandra,Yashoda Lakshmikanth,BJP,INC',\n",
       " 'Bangalore South,Padmanaba Nagar,167,Yadiyur,Poornima Ramesh,BJP,BJP',\n",
       " 'Bangalore South,Padmanaba Nagar,180,Banashankari Temple Ward,S Ansar Pasha,INC,BJP',\n",
       " 'Bangalore South,Padmanaba Nagar,181,Kumaraswamy Layout,L Srinivas,BJP,BJP',\n",
       " 'Bangalore South,Padmanaba Nagar,182,Padmanabhanagar,L Shobha Anjanappa,BJP,BJP',\n",
       " 'Bangalore South,Padmanaba Nagar,183,Chikkakallasandra,Supriya Shekhar,BJP,BJP',\n",
       " 'Bangalore North,Pulikeshi Nagar (SC),31,Kushaal nagar,Umme Salma,JDS,INC',\n",
       " 'Bangalore North,Pulikeshi Nagar (SC),32,Kavalbyrasandra,Netra Narayan,JDS,BJP',\n",
       " 'Bangalore North,Pulikeshi Nagar (SC),47,Devarajeevanahalli,Sampathraj,INC,INC',\n",
       " 'Bangalore North,Pulikeshi Nagar (SC),48,Muneshwara Nagar,Syed Sazida,INC,JDS',\n",
       " 'Bangalore North,Pulikeshi Nagar (SC),60,Sagayapuram,Elumalai,Independent,INC',\n",
       " 'Bangalore North,Pulikeshi Nagar (SC),61,S.K Garden,Mohd Zameer Shah,INC,INC',\n",
       " 'Bangalore North,Pulikeshi Nagar (SC),78,Pulakeshinagar,A R Zakir,INC,INC',\n",
       " 'Bangalore Central,Rajaji Nagar,97,Dayananda Nagar,Kumari Palanikanth,BJP,INC',\n",
       " 'Bangalore Central,Rajaji Nagar,98,Prakash Nagar,Padmavathi G,INC,BJP',\n",
       " 'Bangalore Central,Rajaji Nagar,99,Rajajinagar,G Krishnamurthy,INC,BJP',\n",
       " 'Bangalore Central,Rajaji Nagar,100,Basaveshwaranagar,Umavathi Padmaraj,BJP,BJP',\n",
       " 'Bangalore Central,Rajaji Nagar,101,Kamakshipalya,Pratima K S Ramesh,BJP,BJP',\n",
       " 'Bangalore Central,Rajaji Nagar,107,Shiva Nagar,Manjula Vijaykumar,INC,BJP',\n",
       " 'Bangalore Central,Rajaji Nagar,108,Sri Ramamandira Ward,Deepa Nagesh,BJP,BJP',\n",
       " 'Bangalore North,Rajarajeswari Nagar,16,Jalahalli,J N Srinivas Murthy,INC,INC',\n",
       " 'Bangalore North,Rajarajeswari Nagar,17,J.P Park,Mamatha K B,BJP,BJP',\n",
       " 'Bangalore North,Rajarajeswari Nagar,37,Yashwanthpura,G K Venkatesh ,INC,INC',\n",
       " 'Bangalore North,Rajarajeswari Nagar,38,H.M.T Ward,Asha Suresh,INC,INC',\n",
       " 'Bangalore North,Rajarajeswari Nagar,42,Lakshmidevinagara,Velu Nayakar,INC,BJP',\n",
       " 'Bangalore North,Rajarajeswari Nagar,69,Laggere,Manjula Narayanaswamy,JDS,BJP',\n",
       " 'Bangalore North,Rajarajeswari Nagar,73,Kottigepalya,G Mohan Kumar,INC,BJP',\n",
       " 'Bangalore North,Rajarajeswari Nagar,129,Gnanabharathi Ward,Tejaswini Sitaramaiah,BJP,INC',\n",
       " 'Bangalore North,Rajarajeswari Nagar,160,Rajarajeshwari Nagar,Nalini Manjunath,BJP,BJP',\n",
       " 'Bangalore Central,Sarvagna Nagar,23,Nagavara,Irshad Begum,INC,INC',\n",
       " 'Bangalore Central,Sarvagna Nagar,24,H.B.R Layout,P Anand,INC,BJP',\n",
       " 'Bangalore Central,Sarvagna Nagar,27,Banaswadi,Kodanda Reddy,BJP,BJP',\n",
       " 'Bangalore Central,Sarvagna Nagar,28,Kammanahalli,Munilakshmamma,BJP,BJP',\n",
       " 'Bangalore Central,Sarvagna Nagar,29,Kacharakanahalli,Padmanabha Reddy,BJP,JDS',\n",
       " 'Bangalore Central,Sarvagna Nagar,30,Kadugondanahalli,Noushir Ahmad,INC,INC',\n",
       " 'Bangalore Central,Sarvagna Nagar,49,Lingarajapura,Lavanya Ganesh,INC,INC',\n",
       " 'Bangalore Central,Sarvagna Nagar,59,Maruthi Seva Nagar,Hanna Bhuvaneshwari,INC,INC',\n",
       " 'Bangalore Central,Shanthi Nagar,89,Jogupalya,Gautham Kumar,BJP,BJP',\n",
       " 'Bangalore Central,Shanthi Nagar,111,Shantala Nagar,M B Dwarakanath,BJP,Independent',\n",
       " 'Bangalore Central,Shanthi Nagar,112,Dommalur,Lakshminarayan,Others,BJP',\n",
       " 'Bangalore Central,Shanthi Nagar,114,Agaram,Bhavya,BJP,INC',\n",
       " 'Bangalore Central,Shanthi Nagar,115,Vannarpete,K Shivakumar,BJP,INC',\n",
       " 'Bangalore Central,Shanthi Nagar,116,Neelasandra,Balakrishnan G,INC,INC',\n",
       " 'Bangalore Central,Shanthi Nagar,117,Shanthi Nagar,P Sowmya,INC,INC',\n",
       " 'Bangalore Central,Shivaji Nagar,62,Ramaswamy Palya,Netravathi Krishnegowda,INC,INC',\n",
       " 'Bangalore Central,Shivaji Nagar,63,Jayamahal,M K Gunashekhar,INC,INC',\n",
       " 'Bangalore Central,Shivaji Nagar,90,Ulsoor,Mamatha Saravana,Independent,INC',\n",
       " 'Bangalore Central,Shivaji Nagar,91,Bharathi Nagar,Shakeel Ahmed,INC,INC',\n",
       " 'Bangalore Central,Shivaji Nagar,92,Shivaji Nagar,Fareeda,INC,Independent',\n",
       " 'Bangalore Central,Shivaji Nagar,93,Vasanth Nagar,Sampath Kumar,BJP,BJP',\n",
       " 'Bangalore Central,Shivaji Nagar,110,Samapangirama Nagar,R Vasanth Kumar,INC,BJP',\n",
       " 'Bangalore South,Vijaya Nagar,122,Kempapura Agrahara,Gayathri,Others,INC',\n",
       " 'Bangalore South,Vijaya Nagar,123,Vijaynagara,Srilatha Gopinathraju,BJP,BJP',\n",
       " 'Bangalore South,Vijaya Nagar,124,Hosahalli,R Mahalakshmi,BJP,BJP',\n",
       " 'Bangalore South,Vijaya Nagar,132,Attiguppe,Dr S Raju,BJP,INC',\n",
       " 'Bangalore South,Vijaya Nagar,133,Hampi Nagar,Anand Hosur,BJP,BJP',\n",
       " 'Bangalore South,Vijaya Nagar,134,Bapuji Nagar,Azmal Beig,INC,BJP',\n",
       " 'Bangalore South,Vijaya Nagar,157,Gali Anjaneya Temple,Uma N,INC,BJP',\n",
       " 'Bangalore South,Vijaya Nagar,158,Deepanjali Nagar,Anupama Dharmapal,BJP,BJP',\n",
       " 'Chikballapur,Yelahanka,1,Kempegowda Ward,Chandramma,BJP,BJP',\n",
       " 'Chikballapur,Yelahanka,2,Choudeshwari Ward,R Padmavathi,INC,BJP',\n",
       " 'Chikballapur,Yelahanka,3,Attur,Nethra Pallavi,BJP,BJP',\n",
       " 'Chikballapur,Yelahanka,4,Yelahanka Satellite town,Sathish M,BJP,BJP',\n",
       " 'Bangalore North,Yeshwantpura,40,Doddabidirekallu,Vasudeva S,INC,JDS',\n",
       " 'Bangalore North,Yeshwantpura,72,Herohalli,Rajanna ,INC,JDS',\n",
       " 'Bangalore North,Yeshwantpura,130,Ullalu,Sharada Muniraju,BJP,INC',\n",
       " 'Bangalore North,Yeshwantpura,159,Kengeri,BV Satyanaraya,BJP,BJP',\n",
       " 'Bangalore North,Yeshwantpura,198,Hemmigepura,Arya Srinivas,INC,BJP',\n",
       " ',,,,,,']"
      ]
     },
     "execution_count": 3,
     "metadata": {},
     "output_type": "execute_result"
    }
   ],
   "source": [
    "from pyspark import SparkContext\n",
    "sc = SparkContext(appName=\"Avro\")\n",
    "file = sc.textFile(r\"hdfs://ip-172-31-34-205.us-east-2.compute.internal:8020/user/ec2-user/temp.csv\")\n",
    "file.collect()"
   ]
  },
  {
   "cell_type": "markdown",
   "metadata": {},
   "source": [
    "This is fine but we need data to be processed and hence we need structured access to this raw data.\n",
    "\n",
    "##### Let us use SQLContext to load data into dataframe\n",
    "* Note that sqlcontext requires sparkcontext as input."
   ]
  },
  {
   "cell_type": "code",
   "execution_count": 6,
   "metadata": {},
   "outputs": [],
   "source": [
    "from pyspark.sql import SQLContext\n",
    "sqlContext = SQLContext(sc)"
   ]
  },
  {
   "cell_type": "markdown",
   "metadata": {},
   "source": [
    "Note that \"hdfs://...\" was not required in case you are accessing files through HUE. This is becauase HUE login itself moves to you that URL. So it is relative to that location. However, though notebook is launched in that location it is ultimately the program trying to access the file with no env support. Jupyter does provide the python and anaconda env/packages but not HDFS. "
   ]
  },
  {
   "cell_type": "code",
   "execution_count": 7,
   "metadata": {},
   "outputs": [],
   "source": [
    "df = sqlContext.read.csv('hdfs://ip-172-31-34-205.us-east-2.compute.internal:8020/user/ec2-user/temp.csv',header=True)"
   ]
  },
  {
   "cell_type": "code",
   "execution_count": 30,
   "metadata": {},
   "outputs": [
    {
     "name": "stdout",
     "output_type": "stream",
     "text": [
      "+-----------------+---------------+-------+----------------+--------------------+--------------+---------------------+\n",
      "| MP Constituency |       Assembly|Ward No|      Ward Name |   Winning candidate|Winner's party|Past corporator Party|\n",
      "+-----------------+---------------+-------+----------------+--------------------+--------------+---------------------+\n",
      "|  Bangalore South|  B.T.M. Layout|    146|     Lakkasandra|         Mahesh Babu|           BJP|                  BJP|\n",
      "|  Bangalore South|  B.T.M. Layout|    147|         Adugodi|             Manjula|           INC|                  INC|\n",
      "|  Bangalore South|  B.T.M. Layout|    148|         Ejipura|       T Ramachandra|           INC|                  INC|\n",
      "|  Bangalore South|  B.T.M. Layout|    151|     Koramangala|        M Chandrappa|           INC|                  INC|\n",
      "|  Bangalore South|  B.T.M. Layout|    152|Suddugunte Palya|         G Manjunath|           INC|                  INC|\n",
      "|  Bangalore South|  B.T.M. Layout|    172|        Madiwala| B N Manjunath Reddy|           INC|                  INC|\n",
      "|  Bangalore South|  B.T.M. Layout|    173|     Jakkasandra|       Saraswathamma|           BJP|                  BJP|\n",
      "|  Bangalore South|  B.T.M. Layout|    176|    B.T.M.Layout|           K Devadas|           JDS|                  INC|\n",
      "|  Bangalore South|Bangalore South|    184|     Uttarahalli|       Hanumantaiah'|           BJP|                  BJP|\n",
      "|  Bangalore South|Bangalore South|    185|  Yelachenahalli|       V Balakrishna|           BJP|                  INC|\n",
      "|  Bangalore South|Bangalore South|    192|           Begur|         M Anjinappa|           INC|                  JDS|\n",
      "|  Bangalore South|Bangalore South|    194|       Gottigere|   Lalitha T Narayan|           BJP|                  INC|\n",
      "|  Bangalore South|Bangalore South|    195|     Konanakunte| Shashirekha Jayaram|           BJP|                  BJP|\n",
      "|  Bangalore South|Bangalore South|    196|     Anajanapura|       K Somashekhar|           BJP|                  INC|\n",
      "|  Bangalore South|Bangalore South|    197|    Vasanthapura|        Shobha Gowda|           INC|                  BJP|\n",
      "|  Bangalore South|   Basavanagudi|    154|    Basavanagudi|   B S Satyanarayana|           BJP|                  BJP|\n",
      "|  Bangalore South|   Basavanagudi|    155|   Hanumathnagar|          Kempegowda|           BJP|                  INC|\n",
      "|  Bangalore South|   Basavanagudi|    156|        Srinagar|         J M Savitha|           BJP|                  JDS|\n",
      "|  Bangalore South|   Basavanagudi|    162|       Girinagar|A V Nandini Vijay...|           BJP|                  BJP|\n",
      "|  Bangalore South|   Basavanagudi|    163|     Kathriguppe|  Sangathi Venkatesh|           BJP|                  BJP|\n",
      "+-----------------+---------------+-------+----------------+--------------------+--------------+---------------------+\n",
      "only showing top 20 rows\n",
      "\n"
     ]
    }
   ],
   "source": [
    "df.show()"
   ]
  },
  {
   "cell_type": "code",
   "execution_count": 9,
   "metadata": {},
   "outputs": [
    {
     "data": {
      "text/plain": [
       "pyspark.sql.dataframe.DataFrame"
      ]
     },
     "execution_count": 9,
     "metadata": {},
     "output_type": "execute_result"
    }
   ],
   "source": [
    "type(df)"
   ]
  },
  {
   "cell_type": "markdown",
   "metadata": {},
   "source": [
    "##### Convert HDFS Dataframe to Python Panda DateFrame"
   ]
  },
  {
   "cell_type": "code",
   "execution_count": 10,
   "metadata": {},
   "outputs": [],
   "source": [
    "pdf = df.toPandas()"
   ]
  },
  {
   "cell_type": "code",
   "execution_count": 77,
   "metadata": {},
   "outputs": [
    {
     "data": {
      "text/plain": [
       "(pandas.core.frame.DataFrame, (199, 7))"
      ]
     },
     "execution_count": 77,
     "metadata": {},
     "output_type": "execute_result"
    }
   ],
   "source": [
    "type(pdf), pdf.shape"
   ]
  },
  {
   "cell_type": "code",
   "execution_count": 12,
   "metadata": {},
   "outputs": [
    {
     "data": {
      "text/html": [
       "<div>\n",
       "<style scoped>\n",
       "    .dataframe tbody tr th:only-of-type {\n",
       "        vertical-align: middle;\n",
       "    }\n",
       "\n",
       "    .dataframe tbody tr th {\n",
       "        vertical-align: top;\n",
       "    }\n",
       "\n",
       "    .dataframe thead th {\n",
       "        text-align: right;\n",
       "    }\n",
       "</style>\n",
       "<table border=\"1\" class=\"dataframe\">\n",
       "  <thead>\n",
       "    <tr style=\"text-align: right;\">\n",
       "      <th></th>\n",
       "      <th>MP Constituency</th>\n",
       "      <th>Assembly</th>\n",
       "      <th>Ward No</th>\n",
       "      <th>Ward Name</th>\n",
       "      <th>Winning candidate</th>\n",
       "      <th>Winner's party</th>\n",
       "      <th>Past corporator Party</th>\n",
       "    </tr>\n",
       "  </thead>\n",
       "  <tbody>\n",
       "    <tr>\n",
       "      <th>1</th>\n",
       "      <td>Bangalore South</td>\n",
       "      <td>B.T.M. Layout</td>\n",
       "      <td>147</td>\n",
       "      <td>Adugodi</td>\n",
       "      <td>Manjula</td>\n",
       "      <td>INC</td>\n",
       "      <td>INC</td>\n",
       "    </tr>\n",
       "  </tbody>\n",
       "</table>\n",
       "</div>"
      ],
      "text/plain": [
       "   MP Constituency        Assembly Ward No Ward Name  Winning candidate  \\\n",
       "1   Bangalore South  B.T.M. Layout     147    Adugodi           Manjula   \n",
       "\n",
       "  Winner's party Past corporator Party  \n",
       "1            INC                   INC  "
      ]
     },
     "execution_count": 12,
     "metadata": {},
     "output_type": "execute_result"
    }
   ],
   "source": [
    "#let us slice in panda style\n",
    "pdf[pdf['Winning candidate'] == 'Manjula']"
   ]
  },
  {
   "cell_type": "markdown",
   "metadata": {},
   "source": [
    "##### Data Wrangling\n",
    "* change the column name to programmer friendly\n",
    "    * it is also requirement to parquet storage"
   ]
  },
  {
   "cell_type": "code",
   "execution_count": 50,
   "metadata": {},
   "outputs": [
    {
     "data": {
      "text/html": [
       "<div>\n",
       "<style scoped>\n",
       "    .dataframe tbody tr th:only-of-type {\n",
       "        vertical-align: middle;\n",
       "    }\n",
       "\n",
       "    .dataframe tbody tr th {\n",
       "        vertical-align: top;\n",
       "    }\n",
       "\n",
       "    .dataframe thead th {\n",
       "        text-align: right;\n",
       "    }\n",
       "</style>\n",
       "<table border=\"1\" class=\"dataframe\">\n",
       "  <thead>\n",
       "    <tr style=\"text-align: right;\">\n",
       "      <th></th>\n",
       "      <th>mp_constituency</th>\n",
       "      <th>assembly</th>\n",
       "      <th>ward_no</th>\n",
       "      <th>ward_name</th>\n",
       "      <th>winning_candidate</th>\n",
       "      <th>winners_party</th>\n",
       "      <th>past_corporator_party</th>\n",
       "    </tr>\n",
       "  </thead>\n",
       "  <tbody>\n",
       "    <tr>\n",
       "      <th>0</th>\n",
       "      <td>Bangalore South</td>\n",
       "      <td>B.T.M. Layout</td>\n",
       "      <td>146</td>\n",
       "      <td>Lakkasandra</td>\n",
       "      <td>Mahesh Babu</td>\n",
       "      <td>BJP</td>\n",
       "      <td>BJP</td>\n",
       "    </tr>\n",
       "    <tr>\n",
       "      <th>1</th>\n",
       "      <td>Bangalore South</td>\n",
       "      <td>B.T.M. Layout</td>\n",
       "      <td>147</td>\n",
       "      <td>Adugodi</td>\n",
       "      <td>Manjula</td>\n",
       "      <td>INC</td>\n",
       "      <td>INC</td>\n",
       "    </tr>\n",
       "    <tr>\n",
       "      <th>2</th>\n",
       "      <td>Bangalore South</td>\n",
       "      <td>B.T.M. Layout</td>\n",
       "      <td>148</td>\n",
       "      <td>Ejipura</td>\n",
       "      <td>T Ramachandra</td>\n",
       "      <td>INC</td>\n",
       "      <td>INC</td>\n",
       "    </tr>\n",
       "    <tr>\n",
       "      <th>3</th>\n",
       "      <td>Bangalore South</td>\n",
       "      <td>B.T.M. Layout</td>\n",
       "      <td>151</td>\n",
       "      <td>Koramangala</td>\n",
       "      <td>M Chandrappa</td>\n",
       "      <td>INC</td>\n",
       "      <td>INC</td>\n",
       "    </tr>\n",
       "    <tr>\n",
       "      <th>4</th>\n",
       "      <td>Bangalore South</td>\n",
       "      <td>B.T.M. Layout</td>\n",
       "      <td>152</td>\n",
       "      <td>Suddugunte Palya</td>\n",
       "      <td>G Manjunath</td>\n",
       "      <td>INC</td>\n",
       "      <td>INC</td>\n",
       "    </tr>\n",
       "  </tbody>\n",
       "</table>\n",
       "</div>"
      ],
      "text/plain": [
       "   mp_constituency       assembly ward_no         ward_name winning_candidate  \\\n",
       "0  Bangalore South  B.T.M. Layout     146       Lakkasandra       Mahesh Babu   \n",
       "1  Bangalore South  B.T.M. Layout     147           Adugodi           Manjula   \n",
       "2  Bangalore South  B.T.M. Layout     148           Ejipura     T Ramachandra   \n",
       "3  Bangalore South  B.T.M. Layout     151       Koramangala      M Chandrappa   \n",
       "4  Bangalore South  B.T.M. Layout     152  Suddugunte Palya       G Manjunath   \n",
       "\n",
       "  winners_party past_corporator_party  \n",
       "0           BJP                   BJP  \n",
       "1           INC                   INC  \n",
       "2           INC                   INC  \n",
       "3           INC                   INC  \n",
       "4           INC                   INC  "
      ]
     },
     "execution_count": 50,
     "metadata": {},
     "output_type": "execute_result"
    }
   ],
   "source": [
    "for c in pdf.columns:\n",
    "    pdf = pdf.rename(index=str,columns={c:c.strip().replace(\" \",\"_\").replace(\"'\",\"\").lower()})\n",
    "pdf.head()"
   ]
  },
  {
   "cell_type": "markdown",
   "metadata": {},
   "source": [
    "##### Quick view into the data"
   ]
  },
  {
   "cell_type": "code",
   "execution_count": 49,
   "metadata": {},
   "outputs": [
    {
     "data": {
      "image/png": "[encoded data removed]",
      "text/plain": [
       "<Figure size 432x288 with 1 Axes>"
      ]
     },
     "metadata": {
      "needs_background": "light"
     },
     "output_type": "display_data"
    }
   ],
   "source": [
    "pdf.groupby([ 'winners_party' ]).\\\n",
    "    agg(\"count\").\\\n",
    "    reset_index()[[ 'winners_party', 'ward_name']].\\\n",
    "    rename(index=str, columns={\"ward_name\":\"total_seats\"}).\\\n",
    "    sort_values(\"total_seats\", ascending=False).\\\n",
    "    plot.bar(\"winners_party\",\"total_seats\", rot=45, title= \"Assembly Seats Won in Bengaluru\" );"
   ]
  },
  {
   "cell_type": "markdown",
   "metadata": {},
   "source": [
    "##### To save the file in parquet format locally (inside master node - linux system)\n",
    "* Note that parquet format saving require pyarrow to be installed - conda install pyarrow"
   ]
  },
  {
   "cell_type": "code",
   "execution_count": 55,
   "metadata": {},
   "outputs": [],
   "source": [
    "pdf.to_parquet(\"parquet\")"
   ]
  },
  {
   "cell_type": "markdown",
   "metadata": {},
   "source": [
    "##### Facing issue to save from pandas to HDFS file but we have a work around"
   ]
  },
  {
   "cell_type": "code",
   "execution_count": 16,
   "metadata": {},
   "outputs": [
    {
     "ename": "ArrowIOError",
     "evalue": "Unable to load libhdfs",
     "output_type": "error",
     "traceback": [
      "\u001b[0;31m---------------------------------------------------------------------------\u001b[0m",
      "\u001b[0;31mArrowIOError\u001b[0m                              Traceback (most recent call last)",
      "\u001b[0;32m<ipython-input-16-d1af24d44867>\u001b[0m in \u001b[0;36m<module>\u001b[0;34m\u001b[0m\n\u001b[0;32m----> 1\u001b[0;31m \u001b[0mpdf\u001b[0m\u001b[0;34m.\u001b[0m\u001b[0mto_parquet\u001b[0m\u001b[0;34m(\u001b[0m\u001b[0;34m\"hdfs://ip-172-31-34-205.us-east-2.compute.internal:8020/user/ec2-user/parquet\"\u001b[0m\u001b[0;34m)\u001b[0m\u001b[0;34m\u001b[0m\u001b[0;34m\u001b[0m\u001b[0m\n\u001b[0m",
      "\u001b[0;32m~/anaconda3/lib/python3.7/site-packages/pandas/core/frame.py\u001b[0m in \u001b[0;36mto_parquet\u001b[0;34m(self, fname, engine, compression, index, partition_cols, **kwargs)\u001b[0m\n\u001b[1;32m   2201\u001b[0m         to_parquet(self, fname, engine,\n\u001b[1;32m   2202\u001b[0m                    \u001b[0mcompression\u001b[0m\u001b[0;34m=\u001b[0m\u001b[0mcompression\u001b[0m\u001b[0;34m,\u001b[0m \u001b[0mindex\u001b[0m\u001b[0;34m=\u001b[0m\u001b[0mindex\u001b[0m\u001b[0;34m,\u001b[0m\u001b[0;34m\u001b[0m\u001b[0;34m\u001b[0m\u001b[0m\n\u001b[0;32m-> 2203\u001b[0;31m                    partition_cols=partition_cols, **kwargs)\n\u001b[0m\u001b[1;32m   2204\u001b[0m \u001b[0;34m\u001b[0m\u001b[0m\n\u001b[1;32m   2205\u001b[0m     \u001b[0;34m@\u001b[0m\u001b[0mSubstitution\u001b[0m\u001b[0;34m(\u001b[0m\u001b[0mheader\u001b[0m\u001b[0;34m=\u001b[0m\u001b[0;34m'Whether to print column labels, default True'\u001b[0m\u001b[0;34m)\u001b[0m\u001b[0;34m\u001b[0m\u001b[0;34m\u001b[0m\u001b[0m\n",
      "\u001b[0;32m~/anaconda3/lib/python3.7/site-packages/pandas/io/parquet.py\u001b[0m in \u001b[0;36mto_parquet\u001b[0;34m(df, path, engine, compression, index, partition_cols, **kwargs)\u001b[0m\n\u001b[1;32m    250\u001b[0m     \u001b[0mimpl\u001b[0m \u001b[0;34m=\u001b[0m \u001b[0mget_engine\u001b[0m\u001b[0;34m(\u001b[0m\u001b[0mengine\u001b[0m\u001b[0;34m)\u001b[0m\u001b[0;34m\u001b[0m\u001b[0;34m\u001b[0m\u001b[0m\n\u001b[1;32m    251\u001b[0m     return impl.write(df, path, compression=compression, index=index,\n\u001b[0;32m--> 252\u001b[0;31m                       partition_cols=partition_cols, **kwargs)\n\u001b[0m\u001b[1;32m    253\u001b[0m \u001b[0;34m\u001b[0m\u001b[0m\n\u001b[1;32m    254\u001b[0m \u001b[0;34m\u001b[0m\u001b[0m\n",
      "\u001b[0;32m~/anaconda3/lib/python3.7/site-packages/pandas/io/parquet.py\u001b[0m in \u001b[0;36mwrite\u001b[0;34m(self, df, path, compression, coerce_timestamps, index, partition_cols, **kwargs)\u001b[0m\n\u001b[1;32m    120\u001b[0m             self.api.parquet.write_table(\n\u001b[1;32m    121\u001b[0m                 \u001b[0mtable\u001b[0m\u001b[0;34m,\u001b[0m \u001b[0mpath\u001b[0m\u001b[0;34m,\u001b[0m \u001b[0mcompression\u001b[0m\u001b[0;34m=\u001b[0m\u001b[0mcompression\u001b[0m\u001b[0;34m,\u001b[0m\u001b[0;34m\u001b[0m\u001b[0;34m\u001b[0m\u001b[0m\n\u001b[0;32m--> 122\u001b[0;31m                 coerce_timestamps=coerce_timestamps, **kwargs)\n\u001b[0m\u001b[1;32m    123\u001b[0m \u001b[0;34m\u001b[0m\u001b[0m\n\u001b[1;32m    124\u001b[0m     \u001b[0;32mdef\u001b[0m \u001b[0mread\u001b[0m\u001b[0;34m(\u001b[0m\u001b[0mself\u001b[0m\u001b[0;34m,\u001b[0m \u001b[0mpath\u001b[0m\u001b[0;34m,\u001b[0m \u001b[0mcolumns\u001b[0m\u001b[0;34m=\u001b[0m\u001b[0;32mNone\u001b[0m\u001b[0;34m,\u001b[0m \u001b[0;34m**\u001b[0m\u001b[0mkwargs\u001b[0m\u001b[0;34m)\u001b[0m\u001b[0;34m:\u001b[0m\u001b[0;34m\u001b[0m\u001b[0;34m\u001b[0m\u001b[0m\n",
      "\u001b[0;32m~/anaconda3/lib/python3.7/site-packages/pyarrow/parquet.py\u001b[0m in \u001b[0;36mwrite_table\u001b[0;34m(table, where, row_group_size, version, use_dictionary, compression, use_deprecated_int96_timestamps, coerce_timestamps, allow_truncated_timestamps, flavor, **kwargs)\u001b[0m\n\u001b[1;32m   1122\u001b[0m                 \u001b[0mcompression\u001b[0m\u001b[0;34m=\u001b[0m\u001b[0mcompression\u001b[0m\u001b[0;34m,\u001b[0m\u001b[0;34m\u001b[0m\u001b[0;34m\u001b[0m\u001b[0m\n\u001b[1;32m   1123\u001b[0m                 \u001b[0muse_deprecated_int96_timestamps\u001b[0m\u001b[0;34m=\u001b[0m\u001b[0muse_int96\u001b[0m\u001b[0;34m,\u001b[0m\u001b[0;34m\u001b[0m\u001b[0;34m\u001b[0m\u001b[0m\n\u001b[0;32m-> 1124\u001b[0;31m                 **kwargs) as writer:\n\u001b[0m\u001b[1;32m   1125\u001b[0m             \u001b[0mwriter\u001b[0m\u001b[0;34m.\u001b[0m\u001b[0mwrite_table\u001b[0m\u001b[0;34m(\u001b[0m\u001b[0mtable\u001b[0m\u001b[0;34m,\u001b[0m \u001b[0mrow_group_size\u001b[0m\u001b[0;34m=\u001b[0m\u001b[0mrow_group_size\u001b[0m\u001b[0;34m)\u001b[0m\u001b[0;34m\u001b[0m\u001b[0;34m\u001b[0m\u001b[0m\n\u001b[1;32m   1126\u001b[0m     \u001b[0;32mexcept\u001b[0m \u001b[0mException\u001b[0m\u001b[0;34m:\u001b[0m\u001b[0;34m\u001b[0m\u001b[0;34m\u001b[0m\u001b[0m\n",
      "\u001b[0;32m~/anaconda3/lib/python3.7/site-packages/pyarrow/parquet.py\u001b[0m in \u001b[0;36m__init__\u001b[0;34m(self, where, schema, flavor, version, use_dictionary, compression, use_deprecated_int96_timestamps, **options)\u001b[0m\n\u001b[1;32m    337\u001b[0m \u001b[0;34m\u001b[0m\u001b[0m\n\u001b[1;32m    338\u001b[0m         \u001b[0;32mif\u001b[0m \u001b[0m_is_path_like\u001b[0m\u001b[0;34m(\u001b[0m\u001b[0mwhere\u001b[0m\u001b[0;34m)\u001b[0m\u001b[0;34m:\u001b[0m\u001b[0;34m\u001b[0m\u001b[0;34m\u001b[0m\u001b[0m\n\u001b[0;32m--> 339\u001b[0;31m             \u001b[0mfs\u001b[0m \u001b[0;34m=\u001b[0m \u001b[0m_get_fs_from_path\u001b[0m\u001b[0;34m(\u001b[0m\u001b[0mwhere\u001b[0m\u001b[0;34m)\u001b[0m\u001b[0;34m\u001b[0m\u001b[0;34m\u001b[0m\u001b[0m\n\u001b[0m\u001b[1;32m    340\u001b[0m             \u001b[0msink\u001b[0m \u001b[0;34m=\u001b[0m \u001b[0mself\u001b[0m\u001b[0;34m.\u001b[0m\u001b[0mfile_handle\u001b[0m \u001b[0;34m=\u001b[0m \u001b[0mfs\u001b[0m\u001b[0;34m.\u001b[0m\u001b[0mopen\u001b[0m\u001b[0;34m(\u001b[0m\u001b[0mwhere\u001b[0m\u001b[0;34m,\u001b[0m \u001b[0;34m'wb'\u001b[0m\u001b[0;34m)\u001b[0m\u001b[0;34m\u001b[0m\u001b[0;34m\u001b[0m\u001b[0m\n\u001b[1;32m    341\u001b[0m         \u001b[0;32melse\u001b[0m\u001b[0;34m:\u001b[0m\u001b[0;34m\u001b[0m\u001b[0;34m\u001b[0m\u001b[0m\n",
      "\u001b[0;32m~/anaconda3/lib/python3.7/site-packages/pyarrow/filesystem.py\u001b[0m in \u001b[0;36m_get_fs_from_path\u001b[0;34m(path)\u001b[0m\n\u001b[1;32m    411\u001b[0m         \u001b[0;32mif\u001b[0m \u001b[0mlen\u001b[0m\u001b[0;34m(\u001b[0m\u001b[0mnetloc_split\u001b[0m\u001b[0;34m)\u001b[0m \u001b[0;34m==\u001b[0m \u001b[0;36m2\u001b[0m \u001b[0;32mand\u001b[0m \u001b[0mnetloc_split\u001b[0m\u001b[0;34m[\u001b[0m\u001b[0;36m1\u001b[0m\u001b[0;34m]\u001b[0m\u001b[0;34m.\u001b[0m\u001b[0misnumeric\u001b[0m\u001b[0;34m(\u001b[0m\u001b[0;34m)\u001b[0m\u001b[0;34m:\u001b[0m\u001b[0;34m\u001b[0m\u001b[0;34m\u001b[0m\u001b[0m\n\u001b[1;32m    412\u001b[0m             \u001b[0mport\u001b[0m \u001b[0;34m=\u001b[0m \u001b[0mint\u001b[0m\u001b[0;34m(\u001b[0m\u001b[0mnetloc_split\u001b[0m\u001b[0;34m[\u001b[0m\u001b[0;36m1\u001b[0m\u001b[0;34m]\u001b[0m\u001b[0;34m)\u001b[0m\u001b[0;34m\u001b[0m\u001b[0;34m\u001b[0m\u001b[0m\n\u001b[0;32m--> 413\u001b[0;31m         \u001b[0mfs\u001b[0m \u001b[0;34m=\u001b[0m \u001b[0mpa\u001b[0m\u001b[0;34m.\u001b[0m\u001b[0mhdfs\u001b[0m\u001b[0;34m.\u001b[0m\u001b[0mconnect\u001b[0m\u001b[0;34m(\u001b[0m\u001b[0mhost\u001b[0m\u001b[0;34m=\u001b[0m\u001b[0mhost\u001b[0m\u001b[0;34m,\u001b[0m \u001b[0mport\u001b[0m\u001b[0;34m=\u001b[0m\u001b[0mport\u001b[0m\u001b[0;34m)\u001b[0m\u001b[0;34m\u001b[0m\u001b[0;34m\u001b[0m\u001b[0m\n\u001b[0m\u001b[1;32m    414\u001b[0m     \u001b[0;32melse\u001b[0m\u001b[0;34m:\u001b[0m\u001b[0;34m\u001b[0m\u001b[0;34m\u001b[0m\u001b[0m\n\u001b[1;32m    415\u001b[0m         \u001b[0mfs\u001b[0m \u001b[0;34m=\u001b[0m \u001b[0mLocalFileSystem\u001b[0m\u001b[0;34m.\u001b[0m\u001b[0mget_instance\u001b[0m\u001b[0;34m(\u001b[0m\u001b[0;34m)\u001b[0m\u001b[0;34m\u001b[0m\u001b[0;34m\u001b[0m\u001b[0m\n",
      "\u001b[0;32m~/anaconda3/lib/python3.7/site-packages/pyarrow/hdfs.py\u001b[0m in \u001b[0;36mconnect\u001b[0;34m(host, port, user, kerb_ticket, driver, extra_conf)\u001b[0m\n\u001b[1;32m    181\u001b[0m     fs = HadoopFileSystem(host=host, port=port, user=user,\n\u001b[1;32m    182\u001b[0m                           \u001b[0mkerb_ticket\u001b[0m\u001b[0;34m=\u001b[0m\u001b[0mkerb_ticket\u001b[0m\u001b[0;34m,\u001b[0m \u001b[0mdriver\u001b[0m\u001b[0;34m=\u001b[0m\u001b[0mdriver\u001b[0m\u001b[0;34m,\u001b[0m\u001b[0;34m\u001b[0m\u001b[0;34m\u001b[0m\u001b[0m\n\u001b[0;32m--> 183\u001b[0;31m                           extra_conf=extra_conf)\n\u001b[0m\u001b[1;32m    184\u001b[0m     \u001b[0;32mreturn\u001b[0m \u001b[0mfs\u001b[0m\u001b[0;34m\u001b[0m\u001b[0;34m\u001b[0m\u001b[0m\n",
      "\u001b[0;32m~/anaconda3/lib/python3.7/site-packages/pyarrow/hdfs.py\u001b[0m in \u001b[0;36m__init__\u001b[0;34m(self, host, port, user, kerb_ticket, driver, extra_conf)\u001b[0m\n\u001b[1;32m     35\u001b[0m             \u001b[0m_maybe_set_hadoop_classpath\u001b[0m\u001b[0;34m(\u001b[0m\u001b[0;34m)\u001b[0m\u001b[0;34m\u001b[0m\u001b[0;34m\u001b[0m\u001b[0m\n\u001b[1;32m     36\u001b[0m \u001b[0;34m\u001b[0m\u001b[0m\n\u001b[0;32m---> 37\u001b[0;31m         \u001b[0mself\u001b[0m\u001b[0;34m.\u001b[0m\u001b[0m_connect\u001b[0m\u001b[0;34m(\u001b[0m\u001b[0mhost\u001b[0m\u001b[0;34m,\u001b[0m \u001b[0mport\u001b[0m\u001b[0;34m,\u001b[0m \u001b[0muser\u001b[0m\u001b[0;34m,\u001b[0m \u001b[0mkerb_ticket\u001b[0m\u001b[0;34m,\u001b[0m \u001b[0mdriver\u001b[0m\u001b[0;34m,\u001b[0m \u001b[0mextra_conf\u001b[0m\u001b[0;34m)\u001b[0m\u001b[0;34m\u001b[0m\u001b[0;34m\u001b[0m\u001b[0m\n\u001b[0m\u001b[1;32m     38\u001b[0m \u001b[0;34m\u001b[0m\u001b[0m\n\u001b[1;32m     39\u001b[0m     \u001b[0;32mdef\u001b[0m \u001b[0m__reduce__\u001b[0m\u001b[0;34m(\u001b[0m\u001b[0mself\u001b[0m\u001b[0;34m)\u001b[0m\u001b[0;34m:\u001b[0m\u001b[0;34m\u001b[0m\u001b[0;34m\u001b[0m\u001b[0m\n",
      "\u001b[0;32m~/anaconda3/lib/python3.7/site-packages/pyarrow/io-hdfs.pxi\u001b[0m in \u001b[0;36mpyarrow.lib.HadoopFileSystem._connect\u001b[0;34m()\u001b[0m\n",
      "\u001b[0;32m~/anaconda3/lib/python3.7/site-packages/pyarrow/error.pxi\u001b[0m in \u001b[0;36mpyarrow.lib.check_status\u001b[0;34m()\u001b[0m\n",
      "\u001b[0;31mArrowIOError\u001b[0m: Unable to load libhdfs"
     ]
    }
   ],
   "source": [
    "pdf.to_parquet(\"hdfs://ip-172-31-34-205.us-east-2.compute.internal:8020/user/ec2-user/parquet\")"
   ]
  },
  {
   "cell_type": "markdown",
   "metadata": {},
   "source": [
    "##### Convert the pandas back to spark dataframe"
   ]
  },
  {
   "cell_type": "code",
   "execution_count": 56,
   "metadata": {},
   "outputs": [],
   "source": [
    "df = sqlContext.createDataFrame(pdf)"
   ]
  },
  {
   "cell_type": "code",
   "execution_count": 69,
   "metadata": {},
   "outputs": [
    {
     "name": "stdout",
     "output_type": "stream",
     "text": [
      "rm: `parquet': No such file or directory\r\n"
     ]
    }
   ],
   "source": [
    "!hadoop fs -rm -R parquet"
   ]
  },
  {
   "cell_type": "code",
   "execution_count": 70,
   "metadata": {},
   "outputs": [],
   "source": [
    "df.write.parquet(\"hdfs://ip-172-31-34-205.us-east-2.compute.internal:8020/user/ec2-user/parquet\")"
   ]
  },
  {
   "cell_type": "code",
   "execution_count": 71,
   "metadata": {},
   "outputs": [
    {
     "name": "stdout",
     "output_type": "stream",
     "text": [
      "Found 9 items\r\n",
      "-rw-r--r--   3 ec2-user ec2-user          0 2019-04-30 16:27 parquet/_SUCCESS\r\n",
      "-rw-r--r--   3 ec2-user ec2-user       2891 2019-04-30 16:27 parquet/part-00000-8dea8443-ed6b-4be8-b442-311df48e4f60-c000.snappy.parquet\r\n",
      "-rw-r--r--   3 ec2-user ec2-user       2914 2019-04-30 16:27 parquet/part-00001-8dea8443-ed6b-4be8-b442-311df48e4f60-c000.snappy.parquet\r\n",
      "-rw-r--r--   3 ec2-user ec2-user       2929 2019-04-30 16:27 parquet/part-00002-8dea8443-ed6b-4be8-b442-311df48e4f60-c000.snappy.parquet\r\n",
      "-rw-r--r--   3 ec2-user ec2-user       2945 2019-04-30 16:27 parquet/part-00003-8dea8443-ed6b-4be8-b442-311df48e4f60-c000.snappy.parquet\r\n",
      "-rw-r--r--   3 ec2-user ec2-user       2880 2019-04-30 16:27 parquet/part-00004-8dea8443-ed6b-4be8-b442-311df48e4f60-c000.snappy.parquet\r\n",
      "-rw-r--r--   3 ec2-user ec2-user       2970 2019-04-30 16:27 parquet/part-00005-8dea8443-ed6b-4be8-b442-311df48e4f60-c000.snappy.parquet\r\n",
      "-rw-r--r--   3 ec2-user ec2-user       2865 2019-04-30 16:27 parquet/part-00006-8dea8443-ed6b-4be8-b442-311df48e4f60-c000.snappy.parquet\r\n",
      "-rw-r--r--   3 ec2-user ec2-user       3127 2019-04-30 16:27 parquet/part-00007-8dea8443-ed6b-4be8-b442-311df48e4f60-c000.snappy.parquet\r\n"
     ]
    }
   ],
   "source": [
    "!hadoop fs -ls parquet"
   ]
  },
  {
   "cell_type": "code",
   "execution_count": 81,
   "metadata": {},
   "outputs": [
    {
     "name": "stdout",
     "output_type": "stream",
     "text": [
      "23521\n"
     ]
    }
   ],
   "source": [
    "print(\n",
    "2891\n",
    "+2914\n",
    "+2929\n",
    "+2945\n",
    "+2880\n",
    "+2970\n",
    "+2865\n",
    "+3127)"
   ]
  },
  {
   "cell_type": "code",
   "execution_count": 79,
   "metadata": {},
   "outputs": [
    {
     "name": "stdout",
     "output_type": "stream",
     "text": [
      "-rw-r--r--   1 ec2-user ec2-user      14384 2019-04-30 12:08 temp.csv\r\n"
     ]
    }
   ],
   "source": [
    "!hadoop fs -ls temp.csv"
   ]
  },
  {
   "cell_type": "markdown",
   "metadata": {},
   "source": [
    "##### Note that here the total parquet is more than that of the raw file because of partitioning. \n",
    "\n",
    "##### However, parquet does compress the files and we can see this observation as indicate below.\n",
    "* Here temp.csv is the raw file and parquet is the pandas.to_parquet output (local) file"
   ]
  },
  {
   "cell_type": "code",
   "execution_count": 83,
   "metadata": {},
   "outputs": [
    {
     "name": "stdout",
     "output_type": "stream",
     "text": [
      "-rw-rw-r-- 1 ec2-user ec2-user 11142 Apr 30 16:20 parquet\r\n",
      "-rw-r--r-- 1 ec2-user ec2-user 14384 Apr 30 12:59 temp.csv\r\n"
     ]
    }
   ],
   "source": [
    "!ls -l temp.csv parquet"
   ]
  },
  {
   "cell_type": "markdown",
   "metadata": {},
   "source": [
    "##### Let us Double check the save parquet file size for correctness"
   ]
  },
  {
   "cell_type": "code",
   "execution_count": 76,
   "metadata": {},
   "outputs": [
    {
     "name": "stdout",
     "output_type": "stream",
     "text": [
      "Shape : (199, 7)\n"
     ]
    },
    {
     "data": {
      "text/html": [
       "<div>\n",
       "<style scoped>\n",
       "    .dataframe tbody tr th:only-of-type {\n",
       "        vertical-align: middle;\n",
       "    }\n",
       "\n",
       "    .dataframe tbody tr th {\n",
       "        vertical-align: top;\n",
       "    }\n",
       "\n",
       "    .dataframe thead th {\n",
       "        text-align: right;\n",
       "    }\n",
       "</style>\n",
       "<table border=\"1\" class=\"dataframe\">\n",
       "  <thead>\n",
       "    <tr style=\"text-align: right;\">\n",
       "      <th></th>\n",
       "      <th>mp_constituency</th>\n",
       "      <th>assembly</th>\n",
       "      <th>ward_no</th>\n",
       "      <th>ward_name</th>\n",
       "      <th>winning_candidate</th>\n",
       "      <th>winners_party</th>\n",
       "      <th>past_corporator_party</th>\n",
       "    </tr>\n",
       "  </thead>\n",
       "  <tbody>\n",
       "    <tr>\n",
       "      <th>0</th>\n",
       "      <td>Bangalore Central</td>\n",
       "      <td>Shanthi Nagar</td>\n",
       "      <td>111</td>\n",
       "      <td>Shantala Nagar</td>\n",
       "      <td>M B Dwarakanath</td>\n",
       "      <td>BJP</td>\n",
       "      <td>Independent</td>\n",
       "    </tr>\n",
       "    <tr>\n",
       "      <th>1</th>\n",
       "      <td>Bangalore Central</td>\n",
       "      <td>Shanthi Nagar</td>\n",
       "      <td>112</td>\n",
       "      <td>Dommalur</td>\n",
       "      <td>Lakshminarayan</td>\n",
       "      <td>Others</td>\n",
       "      <td>BJP</td>\n",
       "    </tr>\n",
       "    <tr>\n",
       "      <th>2</th>\n",
       "      <td>Bangalore Central</td>\n",
       "      <td>Shanthi Nagar</td>\n",
       "      <td>114</td>\n",
       "      <td>Agaram</td>\n",
       "      <td>Bhavya</td>\n",
       "      <td>BJP</td>\n",
       "      <td>INC</td>\n",
       "    </tr>\n",
       "    <tr>\n",
       "      <th>3</th>\n",
       "      <td>Bangalore Central</td>\n",
       "      <td>Shanthi Nagar</td>\n",
       "      <td>115</td>\n",
       "      <td>Vannarpete</td>\n",
       "      <td>K Shivakumar</td>\n",
       "      <td>BJP</td>\n",
       "      <td>INC</td>\n",
       "    </tr>\n",
       "    <tr>\n",
       "      <th>4</th>\n",
       "      <td>Bangalore Central</td>\n",
       "      <td>Shanthi Nagar</td>\n",
       "      <td>116</td>\n",
       "      <td>Neelasandra</td>\n",
       "      <td>Balakrishnan G</td>\n",
       "      <td>INC</td>\n",
       "      <td>INC</td>\n",
       "    </tr>\n",
       "  </tbody>\n",
       "</table>\n",
       "</div>"
      ],
      "text/plain": [
       "     mp_constituency       assembly ward_no       ward_name winning_candidate  \\\n",
       "0  Bangalore Central  Shanthi Nagar     111  Shantala Nagar   M B Dwarakanath   \n",
       "1  Bangalore Central  Shanthi Nagar     112        Dommalur    Lakshminarayan   \n",
       "2  Bangalore Central  Shanthi Nagar     114          Agaram            Bhavya   \n",
       "3  Bangalore Central  Shanthi Nagar     115      Vannarpete      K Shivakumar   \n",
       "4  Bangalore Central  Shanthi Nagar     116     Neelasandra    Balakrishnan G   \n",
       "\n",
       "  winners_party past_corporator_party  \n",
       "0           BJP           Independent  \n",
       "1        Others                   BJP  \n",
       "2           BJP                   INC  \n",
       "3           BJP                   INC  \n",
       "4           INC                   INC  "
      ]
     },
     "execution_count": 76,
     "metadata": {},
     "output_type": "execute_result"
    }
   ],
   "source": [
    "new_df = sqlContext.read.parquet('hdfs://ip-172-31-34-205.us-east-2.compute.internal:8020/user/ec2-user/parquet')\n",
    "print(\"Shape :\", new_df.toPandas().shape)\n",
    "new_df.toPandas().head()"
   ]
  },
  {
   "cell_type": "markdown",
   "metadata": {},
   "source": [
    "##### Conver the panda to avro"
   ]
  },
  {
   "cell_type": "code",
   "execution_count": 118,
   "metadata": {},
   "outputs": [],
   "source": [
    "import os\n",
    "os.environ['PYSPARK_SUBMIT_ARGS'] = '--packages org.apache.spark:spark-avro_2.12:2.4.2 pyspark-shell'"
   ]
  },
  {
   "cell_type": "code",
   "execution_count": 119,
   "metadata": {},
   "outputs": [
    {
     "name": "stdout",
     "output_type": "stream",
     "text": [
      "Shape : (199, 7)\n"
     ]
    },
    {
     "data": {
      "text/html": [
       "<div>\n",
       "<style scoped>\n",
       "    .dataframe tbody tr th:only-of-type {\n",
       "        vertical-align: middle;\n",
       "    }\n",
       "\n",
       "    .dataframe tbody tr th {\n",
       "        vertical-align: top;\n",
       "    }\n",
       "\n",
       "    .dataframe thead th {\n",
       "        text-align: right;\n",
       "    }\n",
       "</style>\n",
       "<table border=\"1\" class=\"dataframe\">\n",
       "  <thead>\n",
       "    <tr style=\"text-align: right;\">\n",
       "      <th></th>\n",
       "      <th>mp_constituency</th>\n",
       "      <th>assembly</th>\n",
       "      <th>ward_no</th>\n",
       "      <th>ward_name</th>\n",
       "      <th>winning_candidate</th>\n",
       "      <th>winners_party</th>\n",
       "      <th>past_corporator_party</th>\n",
       "    </tr>\n",
       "  </thead>\n",
       "  <tbody>\n",
       "    <tr>\n",
       "      <th>0</th>\n",
       "      <td>Bangalore Central</td>\n",
       "      <td>Shanthi Nagar</td>\n",
       "      <td>111</td>\n",
       "      <td>Shantala Nagar</td>\n",
       "      <td>M B Dwarakanath</td>\n",
       "      <td>BJP</td>\n",
       "      <td>Independent</td>\n",
       "    </tr>\n",
       "    <tr>\n",
       "      <th>1</th>\n",
       "      <td>Bangalore Central</td>\n",
       "      <td>Shanthi Nagar</td>\n",
       "      <td>112</td>\n",
       "      <td>Dommalur</td>\n",
       "      <td>Lakshminarayan</td>\n",
       "      <td>Others</td>\n",
       "      <td>BJP</td>\n",
       "    </tr>\n",
       "    <tr>\n",
       "      <th>2</th>\n",
       "      <td>Bangalore Central</td>\n",
       "      <td>Shanthi Nagar</td>\n",
       "      <td>114</td>\n",
       "      <td>Agaram</td>\n",
       "      <td>Bhavya</td>\n",
       "      <td>BJP</td>\n",
       "      <td>INC</td>\n",
       "    </tr>\n",
       "    <tr>\n",
       "      <th>3</th>\n",
       "      <td>Bangalore Central</td>\n",
       "      <td>Shanthi Nagar</td>\n",
       "      <td>115</td>\n",
       "      <td>Vannarpete</td>\n",
       "      <td>K Shivakumar</td>\n",
       "      <td>BJP</td>\n",
       "      <td>INC</td>\n",
       "    </tr>\n",
       "    <tr>\n",
       "      <th>4</th>\n",
       "      <td>Bangalore Central</td>\n",
       "      <td>Shanthi Nagar</td>\n",
       "      <td>116</td>\n",
       "      <td>Neelasandra</td>\n",
       "      <td>Balakrishnan G</td>\n",
       "      <td>INC</td>\n",
       "      <td>INC</td>\n",
       "    </tr>\n",
       "  </tbody>\n",
       "</table>\n",
       "</div>"
      ],
      "text/plain": [
       "     mp_constituency       assembly ward_no       ward_name winning_candidate  \\\n",
       "0  Bangalore Central  Shanthi Nagar     111  Shantala Nagar   M B Dwarakanath   \n",
       "1  Bangalore Central  Shanthi Nagar     112        Dommalur    Lakshminarayan   \n",
       "2  Bangalore Central  Shanthi Nagar     114          Agaram            Bhavya   \n",
       "3  Bangalore Central  Shanthi Nagar     115      Vannarpete      K Shivakumar   \n",
       "4  Bangalore Central  Shanthi Nagar     116     Neelasandra    Balakrishnan G   \n",
       "\n",
       "  winners_party past_corporator_party  \n",
       "0           BJP           Independent  \n",
       "1        Others                   BJP  \n",
       "2           BJP                   INC  \n",
       "3           BJP                   INC  \n",
       "4           INC                   INC  "
      ]
     },
     "execution_count": 119,
     "metadata": {},
     "output_type": "execute_result"
    }
   ],
   "source": [
    "sc.stop()\n",
    "sc =SparkContext(appName=\"avro\")\n",
    "sqlContext = SQLContext(sc)\n",
    "new_df = sqlContext.read.parquet('hdfs://ip-172-31-34-205.us-east-2.compute.internal:8020/user/ec2-user/parquet')\n",
    "print(\"Shape :\", new_df.toPandas().shape)\n",
    "new_df.toPandas().head()"
   ]
  },
  {
   "cell_type": "code",
   "execution_count": 121,
   "metadata": {},
   "outputs": [
    {
     "ename": "Py4JJavaError",
     "evalue": "An error occurred while calling o460.save.\n: java.lang.ClassNotFoundException: Failed to find data source: org.apache.spark::spark-avro. Please find packages at http://spark.apache.org/third-party-projects.html\n\tat org.apache.spark.sql.execution.datasources.DataSource$.lookupDataSource(DataSource.scala:657)\n\tat org.apache.spark.sql.DataFrameWriter.save(DataFrameWriter.scala:244)\n\tat org.apache.spark.sql.DataFrameWriter.save(DataFrameWriter.scala:228)\n\tat sun.reflect.NativeMethodAccessorImpl.invoke0(Native Method)\n\tat sun.reflect.NativeMethodAccessorImpl.invoke(NativeMethodAccessorImpl.java:62)\n\tat sun.reflect.DelegatingMethodAccessorImpl.invoke(DelegatingMethodAccessorImpl.java:43)\n\tat java.lang.reflect.Method.invoke(Method.java:498)\n\tat py4j.reflection.MethodInvoker.invoke(MethodInvoker.java:244)\n\tat py4j.reflection.ReflectionEngine.invoke(ReflectionEngine.java:357)\n\tat py4j.Gateway.invoke(Gateway.java:282)\n\tat py4j.commands.AbstractCommand.invokeMethod(AbstractCommand.java:132)\n\tat py4j.commands.CallCommand.execute(CallCommand.java:79)\n\tat py4j.GatewayConnection.run(GatewayConnection.java:238)\n\tat java.lang.Thread.run(Thread.java:748)\nCaused by: java.lang.ClassNotFoundException: org.apache.spark::spark-avro.DefaultSource\n\tat java.net.URLClassLoader.findClass(URLClassLoader.java:382)\n\tat java.lang.ClassLoader.loadClass(ClassLoader.java:424)\n\tat java.lang.ClassLoader.loadClass(ClassLoader.java:357)\n\tat org.apache.spark.sql.execution.datasources.DataSource$$anonfun$20$$anonfun$apply$12.apply(DataSource.scala:634)\n\tat org.apache.spark.sql.execution.datasources.DataSource$$anonfun$20$$anonfun$apply$12.apply(DataSource.scala:634)\n\tat scala.util.Try$.apply(Try.scala:192)\n\tat org.apache.spark.sql.execution.datasources.DataSource$$anonfun$20.apply(DataSource.scala:634)\n\tat org.apache.spark.sql.execution.datasources.DataSource$$anonfun$20.apply(DataSource.scala:634)\n\tat scala.util.Try.orElse(Try.scala:84)\n\tat org.apache.spark.sql.execution.datasources.DataSource$.lookupDataSource(DataSource.scala:634)\n\t... 13 more\n",
     "output_type": "error",
     "traceback": [
      "\u001b[0;31m---------------------------------------------------------------------------\u001b[0m",
      "\u001b[0;31mPy4JJavaError\u001b[0m                             Traceback (most recent call last)",
      "\u001b[0;32m<ipython-input-121-407d6c285c6b>\u001b[0m in \u001b[0;36m<module>\u001b[0;34m\u001b[0m\n\u001b[0;32m----> 1\u001b[0;31m \u001b[0mnew_df\u001b[0m\u001b[0;34m.\u001b[0m\u001b[0mwrite\u001b[0m\u001b[0;34m.\u001b[0m\u001b[0mformat\u001b[0m\u001b[0;34m(\u001b[0m\u001b[0;34m\"org.apache.spark::spark-avro\"\u001b[0m\u001b[0;34m)\u001b[0m\u001b[0;34m.\u001b[0m\u001b[0msave\u001b[0m\u001b[0;34m(\u001b[0m\u001b[0;34m\"avro\"\u001b[0m\u001b[0;34m)\u001b[0m\u001b[0;34m\u001b[0m\u001b[0;34m\u001b[0m\u001b[0m\n\u001b[0m",
      "\u001b[0;32m~/anaconda3/lib/python3.7/site-packages/pyspark/sql/readwriter.py\u001b[0m in \u001b[0;36msave\u001b[0;34m(self, path, format, mode, partitionBy, **options)\u001b[0m\n\u001b[1;32m    734\u001b[0m             \u001b[0mself\u001b[0m\u001b[0;34m.\u001b[0m\u001b[0m_jwrite\u001b[0m\u001b[0;34m.\u001b[0m\u001b[0msave\u001b[0m\u001b[0;34m(\u001b[0m\u001b[0;34m)\u001b[0m\u001b[0;34m\u001b[0m\u001b[0;34m\u001b[0m\u001b[0m\n\u001b[1;32m    735\u001b[0m         \u001b[0;32melse\u001b[0m\u001b[0;34m:\u001b[0m\u001b[0;34m\u001b[0m\u001b[0;34m\u001b[0m\u001b[0m\n\u001b[0;32m--> 736\u001b[0;31m             \u001b[0mself\u001b[0m\u001b[0;34m.\u001b[0m\u001b[0m_jwrite\u001b[0m\u001b[0;34m.\u001b[0m\u001b[0msave\u001b[0m\u001b[0;34m(\u001b[0m\u001b[0mpath\u001b[0m\u001b[0;34m)\u001b[0m\u001b[0;34m\u001b[0m\u001b[0;34m\u001b[0m\u001b[0m\n\u001b[0m\u001b[1;32m    737\u001b[0m \u001b[0;34m\u001b[0m\u001b[0m\n\u001b[1;32m    738\u001b[0m     \u001b[0;34m@\u001b[0m\u001b[0msince\u001b[0m\u001b[0;34m(\u001b[0m\u001b[0;36m1.4\u001b[0m\u001b[0;34m)\u001b[0m\u001b[0;34m\u001b[0m\u001b[0;34m\u001b[0m\u001b[0m\n",
      "\u001b[0;32m~/anaconda3/lib/python3.7/site-packages/py4j/java_gateway.py\u001b[0m in \u001b[0;36m__call__\u001b[0;34m(self, *args)\u001b[0m\n\u001b[1;32m   1255\u001b[0m         \u001b[0manswer\u001b[0m \u001b[0;34m=\u001b[0m \u001b[0mself\u001b[0m\u001b[0;34m.\u001b[0m\u001b[0mgateway_client\u001b[0m\u001b[0;34m.\u001b[0m\u001b[0msend_command\u001b[0m\u001b[0;34m(\u001b[0m\u001b[0mcommand\u001b[0m\u001b[0;34m)\u001b[0m\u001b[0;34m\u001b[0m\u001b[0;34m\u001b[0m\u001b[0m\n\u001b[1;32m   1256\u001b[0m         return_value = get_return_value(\n\u001b[0;32m-> 1257\u001b[0;31m             answer, self.gateway_client, self.target_id, self.name)\n\u001b[0m\u001b[1;32m   1258\u001b[0m \u001b[0;34m\u001b[0m\u001b[0m\n\u001b[1;32m   1259\u001b[0m         \u001b[0;32mfor\u001b[0m \u001b[0mtemp_arg\u001b[0m \u001b[0;32min\u001b[0m \u001b[0mtemp_args\u001b[0m\u001b[0;34m:\u001b[0m\u001b[0;34m\u001b[0m\u001b[0;34m\u001b[0m\u001b[0m\n",
      "\u001b[0;32m~/anaconda3/lib/python3.7/site-packages/pyspark/sql/utils.py\u001b[0m in \u001b[0;36mdeco\u001b[0;34m(*a, **kw)\u001b[0m\n\u001b[1;32m     61\u001b[0m     \u001b[0;32mdef\u001b[0m \u001b[0mdeco\u001b[0m\u001b[0;34m(\u001b[0m\u001b[0;34m*\u001b[0m\u001b[0ma\u001b[0m\u001b[0;34m,\u001b[0m \u001b[0;34m**\u001b[0m\u001b[0mkw\u001b[0m\u001b[0;34m)\u001b[0m\u001b[0;34m:\u001b[0m\u001b[0;34m\u001b[0m\u001b[0;34m\u001b[0m\u001b[0m\n\u001b[1;32m     62\u001b[0m         \u001b[0;32mtry\u001b[0m\u001b[0;34m:\u001b[0m\u001b[0;34m\u001b[0m\u001b[0;34m\u001b[0m\u001b[0m\n\u001b[0;32m---> 63\u001b[0;31m             \u001b[0;32mreturn\u001b[0m \u001b[0mf\u001b[0m\u001b[0;34m(\u001b[0m\u001b[0;34m*\u001b[0m\u001b[0ma\u001b[0m\u001b[0;34m,\u001b[0m \u001b[0;34m**\u001b[0m\u001b[0mkw\u001b[0m\u001b[0;34m)\u001b[0m\u001b[0;34m\u001b[0m\u001b[0;34m\u001b[0m\u001b[0m\n\u001b[0m\u001b[1;32m     64\u001b[0m         \u001b[0;32mexcept\u001b[0m \u001b[0mpy4j\u001b[0m\u001b[0;34m.\u001b[0m\u001b[0mprotocol\u001b[0m\u001b[0;34m.\u001b[0m\u001b[0mPy4JJavaError\u001b[0m \u001b[0;32mas\u001b[0m \u001b[0me\u001b[0m\u001b[0;34m:\u001b[0m\u001b[0;34m\u001b[0m\u001b[0;34m\u001b[0m\u001b[0m\n\u001b[1;32m     65\u001b[0m             \u001b[0ms\u001b[0m \u001b[0;34m=\u001b[0m \u001b[0me\u001b[0m\u001b[0;34m.\u001b[0m\u001b[0mjava_exception\u001b[0m\u001b[0;34m.\u001b[0m\u001b[0mtoString\u001b[0m\u001b[0;34m(\u001b[0m\u001b[0;34m)\u001b[0m\u001b[0;34m\u001b[0m\u001b[0;34m\u001b[0m\u001b[0m\n",
      "\u001b[0;32m~/anaconda3/lib/python3.7/site-packages/py4j/protocol.py\u001b[0m in \u001b[0;36mget_return_value\u001b[0;34m(answer, gateway_client, target_id, name)\u001b[0m\n\u001b[1;32m    326\u001b[0m                 raise Py4JJavaError(\n\u001b[1;32m    327\u001b[0m                     \u001b[0;34m\"An error occurred while calling {0}{1}{2}.\\n\"\u001b[0m\u001b[0;34m.\u001b[0m\u001b[0;34m\u001b[0m\u001b[0;34m\u001b[0m\u001b[0m\n\u001b[0;32m--> 328\u001b[0;31m                     format(target_id, \".\", name), value)\n\u001b[0m\u001b[1;32m    329\u001b[0m             \u001b[0;32melse\u001b[0m\u001b[0;34m:\u001b[0m\u001b[0;34m\u001b[0m\u001b[0;34m\u001b[0m\u001b[0m\n\u001b[1;32m    330\u001b[0m                 raise Py4JError(\n",
      "\u001b[0;31mPy4JJavaError\u001b[0m: An error occurred while calling o460.save.\n: java.lang.ClassNotFoundException: Failed to find data source: org.apache.spark::spark-avro. Please find packages at http://spark.apache.org/third-party-projects.html\n\tat org.apache.spark.sql.execution.datasources.DataSource$.lookupDataSource(DataSource.scala:657)\n\tat org.apache.spark.sql.DataFrameWriter.save(DataFrameWriter.scala:244)\n\tat org.apache.spark.sql.DataFrameWriter.save(DataFrameWriter.scala:228)\n\tat sun.reflect.NativeMethodAccessorImpl.invoke0(Native Method)\n\tat sun.reflect.NativeMethodAccessorImpl.invoke(NativeMethodAccessorImpl.java:62)\n\tat sun.reflect.DelegatingMethodAccessorImpl.invoke(DelegatingMethodAccessorImpl.java:43)\n\tat java.lang.reflect.Method.invoke(Method.java:498)\n\tat py4j.reflection.MethodInvoker.invoke(MethodInvoker.java:244)\n\tat py4j.reflection.ReflectionEngine.invoke(ReflectionEngine.java:357)\n\tat py4j.Gateway.invoke(Gateway.java:282)\n\tat py4j.commands.AbstractCommand.invokeMethod(AbstractCommand.java:132)\n\tat py4j.commands.CallCommand.execute(CallCommand.java:79)\n\tat py4j.GatewayConnection.run(GatewayConnection.java:238)\n\tat java.lang.Thread.run(Thread.java:748)\nCaused by: java.lang.ClassNotFoundException: org.apache.spark::spark-avro.DefaultSource\n\tat java.net.URLClassLoader.findClass(URLClassLoader.java:382)\n\tat java.lang.ClassLoader.loadClass(ClassLoader.java:424)\n\tat java.lang.ClassLoader.loadClass(ClassLoader.java:357)\n\tat org.apache.spark.sql.execution.datasources.DataSource$$anonfun$20$$anonfun$apply$12.apply(DataSource.scala:634)\n\tat org.apache.spark.sql.execution.datasources.DataSource$$anonfun$20$$anonfun$apply$12.apply(DataSource.scala:634)\n\tat scala.util.Try$.apply(Try.scala:192)\n\tat org.apache.spark.sql.execution.datasources.DataSource$$anonfun$20.apply(DataSource.scala:634)\n\tat org.apache.spark.sql.execution.datasources.DataSource$$anonfun$20.apply(DataSource.scala:634)\n\tat scala.util.Try.orElse(Try.scala:84)\n\tat org.apache.spark.sql.execution.datasources.DataSource$.lookupDataSource(DataSource.scala:634)\n\t... 13 more\n"
     ]
    }
   ],
   "source": [
    "new_df.write.format(\"org.apache.spark::spark-avro\").save(\"avro\")"
   ]
  },
  {
   "cell_type": "code",
   "execution_count": 108,
   "metadata": {},
   "outputs": [
    {
     "ename": "ModuleNotFoundError",
     "evalue": "No module named 'com'",
     "output_type": "error",
     "traceback": [
      "\u001b[0;31m---------------------------------------------------------------------------\u001b[0m",
      "\u001b[0;31mModuleNotFoundError\u001b[0m                       Traceback (most recent call last)",
      "\u001b[0;32m<ipython-input-108-177560a06034>\u001b[0m in \u001b[0;36m<module>\u001b[0;34m\u001b[0m\n\u001b[0;32m----> 1\u001b[0;31m \u001b[0;32mimport\u001b[0m \u001b[0mcom\u001b[0m\u001b[0;34m.\u001b[0m\u001b[0mdatabricks\u001b[0m\u001b[0;34m.\u001b[0m\u001b[0mspark\u001b[0m\u001b[0;34m.\u001b[0m\u001b[0mavro\u001b[0m\u001b[0;34m.\u001b[0m\u001b[0m_\u001b[0m\u001b[0;34m\u001b[0m\u001b[0;34m\u001b[0m\u001b[0m\n\u001b[0m",
      "\u001b[0;31mModuleNotFoundError\u001b[0m: No module named 'com'"
     ]
    }
   ],
   "source": [
    "import com.databricks.spark.avro._"
   ]
  },
  {
   "cell_type": "code",
   "execution_count": 107,
   "metadata": {},
   "outputs": [
    {
     "ename": "Py4JJavaError",
     "evalue": "An error occurred while calling o240.save.\n: java.lang.ClassNotFoundException: Failed to find data source: org.apache.spark.sql.avro.AvroFileFormat. Please find packages at http://spark.apache.org/third-party-projects.html\n\tat org.apache.spark.sql.execution.datasources.DataSource$.lookupDataSource(DataSource.scala:657)\n\tat org.apache.spark.sql.DataFrameWriter.save(DataFrameWriter.scala:244)\n\tat org.apache.spark.sql.DataFrameWriter.save(DataFrameWriter.scala:228)\n\tat sun.reflect.NativeMethodAccessorImpl.invoke0(Native Method)\n\tat sun.reflect.NativeMethodAccessorImpl.invoke(NativeMethodAccessorImpl.java:62)\n\tat sun.reflect.DelegatingMethodAccessorImpl.invoke(DelegatingMethodAccessorImpl.java:43)\n\tat java.lang.reflect.Method.invoke(Method.java:498)\n\tat py4j.reflection.MethodInvoker.invoke(MethodInvoker.java:244)\n\tat py4j.reflection.ReflectionEngine.invoke(ReflectionEngine.java:357)\n\tat py4j.Gateway.invoke(Gateway.java:282)\n\tat py4j.commands.AbstractCommand.invokeMethod(AbstractCommand.java:132)\n\tat py4j.commands.CallCommand.execute(CallCommand.java:79)\n\tat py4j.GatewayConnection.run(GatewayConnection.java:238)\n\tat java.lang.Thread.run(Thread.java:748)\nCaused by: java.lang.ClassNotFoundException: org.apache.spark.sql.avro.AvroFileFormat.DefaultSource\n\tat java.net.URLClassLoader.findClass(URLClassLoader.java:382)\n\tat java.lang.ClassLoader.loadClass(ClassLoader.java:424)\n\tat java.lang.ClassLoader.loadClass(ClassLoader.java:357)\n\tat org.apache.spark.sql.execution.datasources.DataSource$$anonfun$20$$anonfun$apply$12.apply(DataSource.scala:634)\n\tat org.apache.spark.sql.execution.datasources.DataSource$$anonfun$20$$anonfun$apply$12.apply(DataSource.scala:634)\n\tat scala.util.Try$.apply(Try.scala:192)\n\tat org.apache.spark.sql.execution.datasources.DataSource$$anonfun$20.apply(DataSource.scala:634)\n\tat org.apache.spark.sql.execution.datasources.DataSource$$anonfun$20.apply(DataSource.scala:634)\n\tat scala.util.Try.orElse(Try.scala:84)\n\tat org.apache.spark.sql.execution.datasources.DataSource$.lookupDataSource(DataSource.scala:634)\n\t... 13 more\n",
     "output_type": "error",
     "traceback": [
      "\u001b[0;31m---------------------------------------------------------------------------\u001b[0m",
      "\u001b[0;31mPy4JJavaError\u001b[0m                             Traceback (most recent call last)",
      "\u001b[0;32m<ipython-input-107-98d9bf8ef289>\u001b[0m in \u001b[0;36m<module>\u001b[0;34m\u001b[0m\n\u001b[0;32m----> 1\u001b[0;31m \u001b[0mnew_df\u001b[0m\u001b[0;34m.\u001b[0m\u001b[0mwrite\u001b[0m\u001b[0;34m.\u001b[0m\u001b[0mformat\u001b[0m\u001b[0;34m(\u001b[0m\u001b[0;34m\"com.databricks.spark.avro\"\u001b[0m\u001b[0;34m)\u001b[0m\u001b[0;34m.\u001b[0m\u001b[0msave\u001b[0m\u001b[0;34m(\u001b[0m\u001b[0;34m\"avro\"\u001b[0m\u001b[0;34m)\u001b[0m\u001b[0;34m\u001b[0m\u001b[0;34m\u001b[0m\u001b[0m\n\u001b[0m",
      "\u001b[0;32m~/anaconda3/lib/python3.7/site-packages/pyspark/sql/readwriter.py\u001b[0m in \u001b[0;36msave\u001b[0;34m(self, path, format, mode, partitionBy, **options)\u001b[0m\n\u001b[1;32m    734\u001b[0m             \u001b[0mself\u001b[0m\u001b[0;34m.\u001b[0m\u001b[0m_jwrite\u001b[0m\u001b[0;34m.\u001b[0m\u001b[0msave\u001b[0m\u001b[0;34m(\u001b[0m\u001b[0;34m)\u001b[0m\u001b[0;34m\u001b[0m\u001b[0;34m\u001b[0m\u001b[0m\n\u001b[1;32m    735\u001b[0m         \u001b[0;32melse\u001b[0m\u001b[0;34m:\u001b[0m\u001b[0;34m\u001b[0m\u001b[0;34m\u001b[0m\u001b[0m\n\u001b[0;32m--> 736\u001b[0;31m             \u001b[0mself\u001b[0m\u001b[0;34m.\u001b[0m\u001b[0m_jwrite\u001b[0m\u001b[0;34m.\u001b[0m\u001b[0msave\u001b[0m\u001b[0;34m(\u001b[0m\u001b[0mpath\u001b[0m\u001b[0;34m)\u001b[0m\u001b[0;34m\u001b[0m\u001b[0;34m\u001b[0m\u001b[0m\n\u001b[0m\u001b[1;32m    737\u001b[0m \u001b[0;34m\u001b[0m\u001b[0m\n\u001b[1;32m    738\u001b[0m     \u001b[0;34m@\u001b[0m\u001b[0msince\u001b[0m\u001b[0;34m(\u001b[0m\u001b[0;36m1.4\u001b[0m\u001b[0;34m)\u001b[0m\u001b[0;34m\u001b[0m\u001b[0;34m\u001b[0m\u001b[0m\n",
      "\u001b[0;32m~/anaconda3/lib/python3.7/site-packages/py4j/java_gateway.py\u001b[0m in \u001b[0;36m__call__\u001b[0;34m(self, *args)\u001b[0m\n\u001b[1;32m   1255\u001b[0m         \u001b[0manswer\u001b[0m \u001b[0;34m=\u001b[0m \u001b[0mself\u001b[0m\u001b[0;34m.\u001b[0m\u001b[0mgateway_client\u001b[0m\u001b[0;34m.\u001b[0m\u001b[0msend_command\u001b[0m\u001b[0;34m(\u001b[0m\u001b[0mcommand\u001b[0m\u001b[0;34m)\u001b[0m\u001b[0;34m\u001b[0m\u001b[0;34m\u001b[0m\u001b[0m\n\u001b[1;32m   1256\u001b[0m         return_value = get_return_value(\n\u001b[0;32m-> 1257\u001b[0;31m             answer, self.gateway_client, self.target_id, self.name)\n\u001b[0m\u001b[1;32m   1258\u001b[0m \u001b[0;34m\u001b[0m\u001b[0m\n\u001b[1;32m   1259\u001b[0m         \u001b[0;32mfor\u001b[0m \u001b[0mtemp_arg\u001b[0m \u001b[0;32min\u001b[0m \u001b[0mtemp_args\u001b[0m\u001b[0;34m:\u001b[0m\u001b[0;34m\u001b[0m\u001b[0;34m\u001b[0m\u001b[0m\n",
      "\u001b[0;32m~/anaconda3/lib/python3.7/site-packages/pyspark/sql/utils.py\u001b[0m in \u001b[0;36mdeco\u001b[0;34m(*a, **kw)\u001b[0m\n\u001b[1;32m     61\u001b[0m     \u001b[0;32mdef\u001b[0m \u001b[0mdeco\u001b[0m\u001b[0;34m(\u001b[0m\u001b[0;34m*\u001b[0m\u001b[0ma\u001b[0m\u001b[0;34m,\u001b[0m \u001b[0;34m**\u001b[0m\u001b[0mkw\u001b[0m\u001b[0;34m)\u001b[0m\u001b[0;34m:\u001b[0m\u001b[0;34m\u001b[0m\u001b[0;34m\u001b[0m\u001b[0m\n\u001b[1;32m     62\u001b[0m         \u001b[0;32mtry\u001b[0m\u001b[0;34m:\u001b[0m\u001b[0;34m\u001b[0m\u001b[0;34m\u001b[0m\u001b[0m\n\u001b[0;32m---> 63\u001b[0;31m             \u001b[0;32mreturn\u001b[0m \u001b[0mf\u001b[0m\u001b[0;34m(\u001b[0m\u001b[0;34m*\u001b[0m\u001b[0ma\u001b[0m\u001b[0;34m,\u001b[0m \u001b[0;34m**\u001b[0m\u001b[0mkw\u001b[0m\u001b[0;34m)\u001b[0m\u001b[0;34m\u001b[0m\u001b[0;34m\u001b[0m\u001b[0m\n\u001b[0m\u001b[1;32m     64\u001b[0m         \u001b[0;32mexcept\u001b[0m \u001b[0mpy4j\u001b[0m\u001b[0;34m.\u001b[0m\u001b[0mprotocol\u001b[0m\u001b[0;34m.\u001b[0m\u001b[0mPy4JJavaError\u001b[0m \u001b[0;32mas\u001b[0m \u001b[0me\u001b[0m\u001b[0;34m:\u001b[0m\u001b[0;34m\u001b[0m\u001b[0;34m\u001b[0m\u001b[0m\n\u001b[1;32m     65\u001b[0m             \u001b[0ms\u001b[0m \u001b[0;34m=\u001b[0m \u001b[0me\u001b[0m\u001b[0;34m.\u001b[0m\u001b[0mjava_exception\u001b[0m\u001b[0;34m.\u001b[0m\u001b[0mtoString\u001b[0m\u001b[0;34m(\u001b[0m\u001b[0;34m)\u001b[0m\u001b[0;34m\u001b[0m\u001b[0;34m\u001b[0m\u001b[0m\n",
      "\u001b[0;32m~/anaconda3/lib/python3.7/site-packages/py4j/protocol.py\u001b[0m in \u001b[0;36mget_return_value\u001b[0;34m(answer, gateway_client, target_id, name)\u001b[0m\n\u001b[1;32m    326\u001b[0m                 raise Py4JJavaError(\n\u001b[1;32m    327\u001b[0m                     \u001b[0;34m\"An error occurred while calling {0}{1}{2}.\\n\"\u001b[0m\u001b[0;34m.\u001b[0m\u001b[0;34m\u001b[0m\u001b[0;34m\u001b[0m\u001b[0m\n\u001b[0;32m--> 328\u001b[0;31m                     format(target_id, \".\", name), value)\n\u001b[0m\u001b[1;32m    329\u001b[0m             \u001b[0;32melse\u001b[0m\u001b[0;34m:\u001b[0m\u001b[0;34m\u001b[0m\u001b[0;34m\u001b[0m\u001b[0m\n\u001b[1;32m    330\u001b[0m                 raise Py4JError(\n",
      "\u001b[0;31mPy4JJavaError\u001b[0m: An error occurred while calling o240.save.\n: java.lang.ClassNotFoundException: Failed to find data source: org.apache.spark.sql.avro.AvroFileFormat. Please find packages at http://spark.apache.org/third-party-projects.html\n\tat org.apache.spark.sql.execution.datasources.DataSource$.lookupDataSource(DataSource.scala:657)\n\tat org.apache.spark.sql.DataFrameWriter.save(DataFrameWriter.scala:244)\n\tat org.apache.spark.sql.DataFrameWriter.save(DataFrameWriter.scala:228)\n\tat sun.reflect.NativeMethodAccessorImpl.invoke0(Native Method)\n\tat sun.reflect.NativeMethodAccessorImpl.invoke(NativeMethodAccessorImpl.java:62)\n\tat sun.reflect.DelegatingMethodAccessorImpl.invoke(DelegatingMethodAccessorImpl.java:43)\n\tat java.lang.reflect.Method.invoke(Method.java:498)\n\tat py4j.reflection.MethodInvoker.invoke(MethodInvoker.java:244)\n\tat py4j.reflection.ReflectionEngine.invoke(ReflectionEngine.java:357)\n\tat py4j.Gateway.invoke(Gateway.java:282)\n\tat py4j.commands.AbstractCommand.invokeMethod(AbstractCommand.java:132)\n\tat py4j.commands.CallCommand.execute(CallCommand.java:79)\n\tat py4j.GatewayConnection.run(GatewayConnection.java:238)\n\tat java.lang.Thread.run(Thread.java:748)\nCaused by: java.lang.ClassNotFoundException: org.apache.spark.sql.avro.AvroFileFormat.DefaultSource\n\tat java.net.URLClassLoader.findClass(URLClassLoader.java:382)\n\tat java.lang.ClassLoader.loadClass(ClassLoader.java:424)\n\tat java.lang.ClassLoader.loadClass(ClassLoader.java:357)\n\tat org.apache.spark.sql.execution.datasources.DataSource$$anonfun$20$$anonfun$apply$12.apply(DataSource.scala:634)\n\tat org.apache.spark.sql.execution.datasources.DataSource$$anonfun$20$$anonfun$apply$12.apply(DataSource.scala:634)\n\tat scala.util.Try$.apply(Try.scala:192)\n\tat org.apache.spark.sql.execution.datasources.DataSource$$anonfun$20.apply(DataSource.scala:634)\n\tat org.apache.spark.sql.execution.datasources.DataSource$$anonfun$20.apply(DataSource.scala:634)\n\tat scala.util.Try.orElse(Try.scala:84)\n\tat org.apache.spark.sql.execution.datasources.DataSource$.lookupDataSource(DataSource.scala:634)\n\t... 13 more\n"
     ]
    }
   ],
   "source": [
    "new_df.write.format(\"com.databricks.spark.avro\").save(\"avro\")"
   ]
  },
  {
   "cell_type": "code",
   "execution_count": 96,
   "metadata": {},
   "outputs": [],
   "source": [
    "new_pdf = new_df.toPandas()\n"
   ]
  },
  {
   "cell_type": "code",
   "execution_count": 103,
   "metadata": {},
   "outputs": [
    {
     "name": "stdout",
     "output_type": "stream",
     "text": [
      "{'mp_constituency': 'Bangalore Central', 'assembly': 'Shanthi Nagar', 'ward_no': '111', 'ward_name': 'Shantala Nagar', 'winning_candidate': 'M B Dwarakanath', 'winners_party': 'BJP', 'past_corporator_party': 'Independent'}\n"
     ]
    }
   ],
   "source": [
    "\n",
    "    print(dict(r))\n",
    "    break"
   ]
  },
  {
   "cell_type": "code",
   "execution_count": 106,
   "metadata": {},
   "outputs": [
    {
     "ename": "AttributeError",
     "evalue": "module 'avro.schema' has no attribute 'parse'",
     "output_type": "error",
     "traceback": [
      "\u001b[0;31m---------------------------------------------------------------------------\u001b[0m",
      "\u001b[0;31mAttributeError\u001b[0m                            Traceback (most recent call last)",
      "\u001b[0;32m<ipython-input-106-1f578958034f>\u001b[0m in \u001b[0;36m<module>\u001b[0;34m\u001b[0m\n\u001b[0;32m----> 1\u001b[0;31m \u001b[0mschema\u001b[0m \u001b[0;34m=\u001b[0m \u001b[0mavro\u001b[0m\u001b[0;34m.\u001b[0m\u001b[0mschema\u001b[0m\u001b[0;34m.\u001b[0m\u001b[0mparse\u001b[0m\u001b[0;34m(\u001b[0m\u001b[0mopen\u001b[0m\u001b[0;34m(\u001b[0m\u001b[0;34m\"election.avsc\"\u001b[0m\u001b[0;34m,\u001b[0m \u001b[0;34m\"rb\"\u001b[0m\u001b[0;34m)\u001b[0m\u001b[0;34m.\u001b[0m\u001b[0mread\u001b[0m\u001b[0;34m(\u001b[0m\u001b[0;34m)\u001b[0m\u001b[0;34m)\u001b[0m\u001b[0;34m\u001b[0m\u001b[0;34m\u001b[0m\u001b[0m\n\u001b[0m\u001b[1;32m      2\u001b[0m \u001b[0;34m\u001b[0m\u001b[0m\n\u001b[1;32m      3\u001b[0m \u001b[0mwriter\u001b[0m \u001b[0;34m=\u001b[0m \u001b[0mDataFileWriter\u001b[0m\u001b[0;34m(\u001b[0m\u001b[0mopen\u001b[0m\u001b[0;34m(\u001b[0m\u001b[0;34m\"election.avro\"\u001b[0m\u001b[0;34m,\u001b[0m \u001b[0;34m\"wb\"\u001b[0m\u001b[0;34m)\u001b[0m\u001b[0;34m,\u001b[0m \u001b[0mDatumWriter\u001b[0m\u001b[0;34m(\u001b[0m\u001b[0;34m)\u001b[0m\u001b[0;34m,\u001b[0m \u001b[0mschema\u001b[0m\u001b[0;34m)\u001b[0m\u001b[0;34m\u001b[0m\u001b[0;34m\u001b[0m\u001b[0m\n\u001b[1;32m      4\u001b[0m \u001b[0;32mfor\u001b[0m \u001b[0midx\u001b[0m\u001b[0;34m,\u001b[0m \u001b[0mr\u001b[0m \u001b[0;32min\u001b[0m \u001b[0mnew_pdf\u001b[0m\u001b[0;34m.\u001b[0m\u001b[0miterrows\u001b[0m\u001b[0;34m(\u001b[0m\u001b[0;34m)\u001b[0m\u001b[0;34m:\u001b[0m\u001b[0;34m\u001b[0m\u001b[0;34m\u001b[0m\u001b[0m\n\u001b[1;32m      5\u001b[0m     \u001b[0mwriter\u001b[0m\u001b[0;34m.\u001b[0m\u001b[0mappend\u001b[0m\u001b[0;34m(\u001b[0m\u001b[0mdict\u001b[0m\u001b[0;34m(\u001b[0m\u001b[0mr\u001b[0m\u001b[0;34m)\u001b[0m\u001b[0;34m)\u001b[0m\u001b[0;34m\u001b[0m\u001b[0;34m\u001b[0m\u001b[0m\n",
      "\u001b[0;31mAttributeError\u001b[0m: module 'avro.schema' has no attribute 'parse'"
     ]
    }
   ],
   "source": [
    "schema = avro.schema.parse(open(\"election.avsc\", \"rb\").read())\n",
    "\n",
    "writer = DataFileWriter(open(\"election.avro\", \"wb\"), DatumWriter(), schema)\n",
    "for idx, r in new_pdf.iterrows():\n",
    "    writer.append(dict(r))\n",
    "writer.close()"
   ]
  },
  {
   "cell_type": "code",
   "execution_count": null,
   "metadata": {},
   "outputs": [],
   "source": []
  }
 ],
 "metadata": {
  "kernelspec": {
   "display_name": "Python 3",
   "language": "python",
   "name": "python3"
  },
  "language_info": {
   "codemirror_mode": {
    "name": "ipython",
    "version": 3
   },
   "file_extension": ".py",
   "mimetype": "text/x-python",
   "name": "python",
   "nbconvert_exporter": "python",
   "pygments_lexer": "ipython3",
   "version": "3.7.3"
  }
 },
 "nbformat": 4,
 "nbformat_minor": 2
}
